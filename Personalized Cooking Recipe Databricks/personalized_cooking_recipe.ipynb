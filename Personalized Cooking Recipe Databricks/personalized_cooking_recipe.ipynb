{
 "cells": [
  {
   "cell_type": "markdown",
   "metadata": {
    "application/vnd.databricks.v1+cell": {
     "cellMetadata": {},
     "inputWidgets": {},
     "nuid": "6c00f276-0b8f-499c-8767-6a83fa5fb26a",
     "showTitle": false,
     "tableResultSettingsMap": {},
     "title": ""
    }
   },
   "source": [
    "## Stored Procs To Load Data To Bronze Tables:"
   ]
  },
  {
   "cell_type": "code",
   "execution_count": 0,
   "metadata": {
    "application/vnd.databricks.v1+cell": {
     "cellMetadata": {
      "byteLimit": 2048000,
      "rowLimit": 10000
     },
     "inputWidgets": {},
     "nuid": "28cca7e7-a2f9-42b7-b9c1-c8b933ccb35d",
     "showTitle": false,
     "tableResultSettingsMap": {
      "0": {
       "dataGridStateBlob": "{\"version\":1,\"tableState\":{\"columnPinning\":{\"left\":[\"#row_number#\"],\"right\":[]},\"columnSizing\":{},\"columnVisibility\":{}},\"settings\":{\"columns\":{}},\"syncTimestamp\":1756048088709}",
       "filterBlob": null,
       "queryPlanFiltersBlob": null,
       "tableResultIndex": 0
      }
     },
     "title": ""
    }
   },
   "outputs": [],
   "source": [
    "CREATE OR REPLACE PROCEDURE load_products_from_raw_to_bronze()\n",
    "LANGUAGE SQL\n",
    "SQL SECURITY INVOKER\n",
    "COMMENT 'Load products from raw to bronze'\n",
    "AS\n",
    "BEGIN\n",
    "  TRUNCATE TABLE raw_dlk.blinkit_orders.products; \n",
    "  INSERT INTO raw_dlk.blinkit_orders.products \n",
    "  SELECT \n",
    "    * EXCEPT(_rescued_data)\n",
    "  FROM \n",
    "    read_files(\n",
    "      '/Volumes/raw_dlk/blinkit_orders/sales_data/blinkit_products.csv', \n",
    "      format => 'csv'\n",
    "    )\n",
    "  WHERE category IN ('Fruits & Vegetables', 'Dairy & Breakfast');\n",
    "  \n",
    "END;"
   ]
  },
  {
   "cell_type": "code",
   "execution_count": 0,
   "metadata": {
    "application/vnd.databricks.v1+cell": {
     "cellMetadata": {
      "byteLimit": 2048000,
      "rowLimit": 10000
     },
     "inputWidgets": {},
     "nuid": "bab2f3d3-3683-4d2e-a7fe-17ca9734c783",
     "showTitle": false,
     "tableResultSettingsMap": {},
     "title": ""
    }
   },
   "outputs": [],
   "source": [
    "CREATE OR REPLACE PROCEDURE load_order_items_from_raw_to_bronze()\n",
    "LANGUAGE SQL\n",
    "SQL SECURITY INVOKER\n",
    "COMMENT 'Load order items data from raw to bronze'\n",
    "AS\n",
    "BEGIN\n",
    "  TRUNCATE TABLE raw_dlk.blinkit_orders.order_items; \n",
    "  INSERT INTO raw_dlk.blinkit_orders.order_items \n",
    "  SELECT \n",
    "    * EXCEPT(_rescued_data)\n",
    "  FROM \n",
    "    read_files(\n",
    "      '/Volumes/raw_dlk/blinkit_orders/sales_data/blinkit_order_items.csv', \n",
    "      format => 'csv'\n",
    "    )\n",
    "  ;\n",
    "  \n",
    "END;"
   ]
  },
  {
   "cell_type": "markdown",
   "metadata": {
    "application/vnd.databricks.v1+cell": {
     "cellMetadata": {},
     "inputWidgets": {},
     "nuid": "7eb42d62-21d8-49d6-9b9d-8d8b7e615499",
     "showTitle": false,
     "tableResultSettingsMap": {},
     "title": ""
    }
   },
   "source": [
    "## SQL Program To Generate Recipe For Customers:"
   ]
  },
  {
   "cell_type": "code",
   "execution_count": 0,
   "metadata": {
    "application/vnd.databricks.v1+cell": {
     "cellMetadata": {
      "byteLimit": 2048000,
      "rowLimit": 10000
     },
     "inputWidgets": {},
     "nuid": "de9c85bb-c88e-44bd-8cc2-7482eb0a3f93",
     "showTitle": false,
     "tableResultSettingsMap": {
      "0": {
       "dataGridStateBlob": "{\"version\":1,\"tableState\":{\"columnPinning\":{\"left\":[\"#row_number#\"],\"right\":[]},\"columnSizing\":{},\"columnVisibility\":{}},\"settings\":{\"columns\":{}},\"syncTimestamp\":1756049014456}",
       "filterBlob": null,
       "queryPlanFiltersBlob": null,
       "tableResultIndex": 0
      }
     },
     "title": ""
    }
   },
   "outputs": [],
   "source": [
    "CREATE OR REPLACE PROCEDURE load_recipe_to_landing()\n",
    "LANGUAGE SQL\n",
    "SQL SECURITY INVOKER\n",
    "COMMENT 'Load recipe data to landing table'\n",
    "AS\n",
    "BEGIN\n",
    "  DROP TABLE IF EXISTS landing.recipe_users.suggested_recipe_users ; \n",
    "  CREATE TABLE landing.recipe_users.suggested_recipe_users AS\n",
    "  SELECT\n",
    "    *,\n",
    "    AI_GEN(\n",
    "      CONCAT(\n",
    "        'Please suggest and generate a recipe with ingredients: ',\n",
    "        ORDERED_ITEMS\n",
    "      )\n",
    "    ) AS SUGGESTED_RECIPE\n",
    "  FROM (\n",
    "    SELECT\n",
    "      customer_id AS CUSTOMER_ID,\n",
    "      COUNT(1) AS TOTAL_ORDERS,\n",
    "      COUNT(DISTINCT product_name) AS TOTAL_UNIQUE_ORDERS,\n",
    "      STRING_AGG(DISTINCT product_name, ' , ') AS ORDERED_ITEMS\n",
    "    FROM\n",
    "      raw_dlk.blinkit_orders.order_items oi\n",
    "      INNER JOIN raw_dlk.blinkit_orders.products p\n",
    "        ON oi.product_id = p.product_id\n",
    "      INNER JOIN raw_dlk.blinkit_orders.orders o\n",
    "        ON oi.order_id = o.order_id\n",
    "    GROUP BY 1\n",
    "    HAVING COUNT(DISTINCT product_name) > 1\n",
    "    ORDER BY 2 DESC\n",
    "    LIMIT 10\n",
    "  ) ; \n",
    "END"
   ]
  },
  {
   "cell_type": "markdown",
   "metadata": {
    "application/vnd.databricks.v1+cell": {
     "cellMetadata": {},
     "inputWidgets": {},
     "nuid": "db8b42a3-dd46-4313-a018-53d1da884b16",
     "showTitle": false,
     "tableResultSettingsMap": {},
     "title": ""
    }
   },
   "source": [
    "### Translate Cooking Recipe To Regional Language:"
   ]
  },
  {
   "cell_type": "code",
   "execution_count": 0,
   "metadata": {
    "application/vnd.databricks.v1+cell": {
     "cellMetadata": {
      "byteLimit": 2048000,
      "rowLimit": 10000
     },
     "inputWidgets": {},
     "nuid": "12d40ac1-e409-4055-ab4b-bdf5dad2979a",
     "showTitle": false,
     "tableResultSettingsMap": {},
     "title": ""
    }
   },
   "outputs": [],
   "source": [
    "\n",
    "CREATE OR REPLACE PROCEDURE translate_recipe_to_regional_lang(\n",
    "  IN p_translation STRING  )\n",
    "LANGUAGE SQL\n",
    "SQL SECURITY INVOKER\n",
    "COMMENT 'Load recipe data to landing regional language table'\n",
    "AS\n",
    "BEGIN\n",
    "  DROP TABLE IF EXISTS landing.recipe_users.suggested_recipe_users_regional ; \n",
    "  CREATE TABLE landing.recipe_users.suggested_recipe_users_regional AS\n",
    "    SELECT\n",
    "       CUSTOMER_ID,\n",
    "     TOTAL_ORDERS,\n",
    "      TOTAL_UNIQUE_ORDERS,\n",
    "      ORDERED_ITEMS , \n",
    "      ai_translate(\n",
    "        SUGGESTED_RECIPE,\n",
    "        p_translation) recipe_in_regional\n",
    "    FROM\n",
    "     landing.recipe_users.suggested_recipe_users\n",
    " ; \n",
    "END\n"
   ]
  },
  {
   "cell_type": "markdown",
   "metadata": {
    "application/vnd.databricks.v1+cell": {
     "cellMetadata": {},
     "inputWidgets": {},
     "nuid": "5950e2e8-b09f-45e9-8829-235571b79aac",
     "showTitle": false,
     "tableResultSettingsMap": {},
     "title": ""
    }
   },
   "source": [
    "## Bronze Tables:"
   ]
  },
  {
   "cell_type": "code",
   "execution_count": 0,
   "metadata": {
    "application/vnd.databricks.v1+cell": {
     "cellMetadata": {
      "byteLimit": 2048000,
      "rowLimit": 10000
     },
     "inputWidgets": {},
     "nuid": "550f3e8c-7531-40df-b0fa-3d82f50186fc",
     "showTitle": false,
     "tableResultSettingsMap": {},
     "title": ""
    }
   },
   "outputs": [
    {
     "output_type": "display_data",
     "data": {
      "text/html": [
       "<style scoped>\n",
       "  .table-result-container {\n",
       "    max-height: 300px;\n",
       "    overflow: auto;\n",
       "  }\n",
       "  table, th, td {\n",
       "    border: 1px solid black;\n",
       "    border-collapse: collapse;\n",
       "  }\n",
       "  th, td {\n",
       "    padding: 5px;\n",
       "  }\n",
       "  th {\n",
       "    text-align: left;\n",
       "  }\n",
       "</style><div class='table-result-container'><table class='table-result'><thead style='background-color: white'><tr><th>product_id</th><th>product_name</th><th>category</th><th>brand</th><th>price</th><th>mrp</th><th>margin_percentage</th><th>shelf_life_days</th><th>min_stock_level</th><th>max_stock_level</th></tr></thead><tbody><tr><td>153019</td><td>Onions</td><td>Fruits & Vegetables</td><td>Aurora LLC</td><td>947.95</td><td>1263.93</td><td>25.0</td><td>3</td><td>13</td><td>88</td></tr><tr><td>11422</td><td>Potatoes</td><td>Fruits & Vegetables</td><td>Ramaswamy-Tata</td><td>127.16</td><td>169.55</td><td>25.0</td><td>3</td><td>20</td><td>65</td></tr><tr><td>669378</td><td>Potatoes</td><td>Fruits & Vegetables</td><td>Chadha and Sons</td><td>212.14</td><td>282.85</td><td>25.0</td><td>3</td><td>23</td><td>70</td></tr><tr><td>848226</td><td>Tomatoes</td><td>Fruits & Vegetables</td><td>Barad and Sons</td><td>209.59</td><td>279.45</td><td>25.0</td><td>3</td><td>10</td><td>51</td></tr><tr><td>890623</td><td>Onions</td><td>Fruits & Vegetables</td><td>Sangha, Nagar and Varty</td><td>354.52</td><td>472.69</td><td>25.0</td><td>3</td><td>27</td><td>55</td></tr></tbody></table></div>"
      ]
     },
     "metadata": {
      "application/vnd.databricks.v1+output": {
       "addedWidgets": {},
       "aggData": [],
       "aggError": "",
       "aggOverflow": false,
       "aggSchema": [],
       "aggSeriesLimitReached": false,
       "aggType": "",
       "arguments": {},
       "columnCustomDisplayInfos": {},
       "data": [
        [
         153019,
         "Onions",
         "Fruits & Vegetables",
         "Aurora LLC",
         947.95,
         1263.93,
         25.0,
         3,
         13,
         88
        ],
        [
         11422,
         "Potatoes",
         "Fruits & Vegetables",
         "Ramaswamy-Tata",
         127.16,
         169.55,
         25.0,
         3,
         20,
         65
        ],
        [
         669378,
         "Potatoes",
         "Fruits & Vegetables",
         "Chadha and Sons",
         212.14,
         282.85,
         25.0,
         3,
         23,
         70
        ],
        [
         848226,
         "Tomatoes",
         "Fruits & Vegetables",
         "Barad and Sons",
         209.59,
         279.45,
         25.0,
         3,
         10,
         51
        ],
        [
         890623,
         "Onions",
         "Fruits & Vegetables",
         "Sangha, Nagar and Varty",
         354.52,
         472.69,
         25.0,
         3,
         27,
         55
        ]
       ],
       "datasetInfos": [
        {
         "name": "_sqldf",
         "schema": {
          "fields": [
           {
            "metadata": {},
            "name": "product_id",
            "nullable": true,
            "type": "integer"
           },
           {
            "metadata": {},
            "name": "product_name",
            "nullable": true,
            "type": "string"
           },
           {
            "metadata": {},
            "name": "category",
            "nullable": true,
            "type": "string"
           },
           {
            "metadata": {},
            "name": "brand",
            "nullable": true,
            "type": "string"
           },
           {
            "metadata": {},
            "name": "price",
            "nullable": true,
            "type": "double"
           },
           {
            "metadata": {},
            "name": "mrp",
            "nullable": true,
            "type": "double"
           },
           {
            "metadata": {},
            "name": "margin_percentage",
            "nullable": true,
            "type": "double"
           },
           {
            "metadata": {},
            "name": "shelf_life_days",
            "nullable": true,
            "type": "integer"
           },
           {
            "metadata": {},
            "name": "min_stock_level",
            "nullable": true,
            "type": "integer"
           },
           {
            "metadata": {},
            "name": "max_stock_level",
            "nullable": true,
            "type": "integer"
           }
          ],
          "type": "struct"
         },
         "tableIdentifier": null,
         "typeStr": "pyspark.sql.connect.dataframe.DataFrame"
        }
       ],
       "dbfsResultPath": null,
       "isJsonSchema": true,
       "metadata": {
        "createTempViewForImplicitDf": true,
        "dataframeName": "_sqldf",
        "executionCount": 5
       },
       "overflow": false,
       "plotOptions": {
        "customPlotOptions": {},
        "displayType": "table",
        "pivotAggregation": null,
        "pivotColumns": null,
        "xColumns": null,
        "yColumns": null
       },
       "removedWidgets": [],
       "schema": [
        {
         "metadata": "{}",
         "name": "product_id",
         "type": "\"integer\""
        },
        {
         "metadata": "{}",
         "name": "product_name",
         "type": "\"string\""
        },
        {
         "metadata": "{}",
         "name": "category",
         "type": "\"string\""
        },
        {
         "metadata": "{}",
         "name": "brand",
         "type": "\"string\""
        },
        {
         "metadata": "{}",
         "name": "price",
         "type": "\"double\""
        },
        {
         "metadata": "{}",
         "name": "mrp",
         "type": "\"double\""
        },
        {
         "metadata": "{}",
         "name": "margin_percentage",
         "type": "\"double\""
        },
        {
         "metadata": "{}",
         "name": "shelf_life_days",
         "type": "\"integer\""
        },
        {
         "metadata": "{}",
         "name": "min_stock_level",
         "type": "\"integer\""
        },
        {
         "metadata": "{}",
         "name": "max_stock_level",
         "type": "\"integer\""
        }
       ],
       "type": "table"
      }
     },
     "output_type": "display_data"
    }
   ],
   "source": [
    "SELECT * \n",
    "FROM \n",
    "raw_dlk.blinkit_orders.products \n",
    "LIMIT 5 "
   ]
  },
  {
   "cell_type": "code",
   "execution_count": 0,
   "metadata": {
    "application/vnd.databricks.v1+cell": {
     "cellMetadata": {
      "byteLimit": 2048000,
      "rowLimit": 10000
     },
     "inputWidgets": {},
     "nuid": "46bd402a-a5fb-4c9e-b4d8-f391b907c27b",
     "showTitle": false,
     "tableResultSettingsMap": {},
     "title": ""
    }
   },
   "outputs": [
    {
     "output_type": "display_data",
     "data": {
      "text/html": [
       "<style scoped>\n",
       "  .table-result-container {\n",
       "    max-height: 300px;\n",
       "    overflow: auto;\n",
       "  }\n",
       "  table, th, td {\n",
       "    border: 1px solid black;\n",
       "    border-collapse: collapse;\n",
       "  }\n",
       "  th, td {\n",
       "    padding: 5px;\n",
       "  }\n",
       "  th {\n",
       "    text-align: left;\n",
       "  }\n",
       "</style><div class='table-result-container'><table class='table-result'><thead style='background-color: white'><tr><th>order_id</th><th>product_id</th><th>quantity</th><th>unit_price</th></tr></thead><tbody><tr><td>1961864118</td><td>642612</td><td>3</td><td>517.03</td></tr><tr><td>1549769649</td><td>378676</td><td>1</td><td>881.42</td></tr><tr><td>9185164487</td><td>741341</td><td>2</td><td>923.84</td></tr><tr><td>9644738826</td><td>561860</td><td>1</td><td>874.78</td></tr><tr><td>5427684290</td><td>602241</td><td>2</td><td>976.55</td></tr></tbody></table></div>"
      ]
     },
     "metadata": {
      "application/vnd.databricks.v1+output": {
       "addedWidgets": {},
       "aggData": [],
       "aggError": "",
       "aggOverflow": false,
       "aggSchema": [],
       "aggSeriesLimitReached": false,
       "aggType": "",
       "arguments": {},
       "columnCustomDisplayInfos": {},
       "data": [
        [
         1961864118,
         642612,
         3,
         517.03
        ],
        [
         1549769649,
         378676,
         1,
         881.42
        ],
        [
         9185164487,
         741341,
         2,
         923.84
        ],
        [
         9644738826,
         561860,
         1,
         874.78
        ],
        [
         5427684290,
         602241,
         2,
         976.55
        ]
       ],
       "datasetInfos": [
        {
         "name": "_sqldf",
         "schema": {
          "fields": [
           {
            "metadata": {},
            "name": "order_id",
            "nullable": true,
            "type": "long"
           },
           {
            "metadata": {},
            "name": "product_id",
            "nullable": true,
            "type": "integer"
           },
           {
            "metadata": {},
            "name": "quantity",
            "nullable": true,
            "type": "integer"
           },
           {
            "metadata": {},
            "name": "unit_price",
            "nullable": true,
            "type": "double"
           }
          ],
          "type": "struct"
         },
         "tableIdentifier": null,
         "typeStr": "pyspark.sql.connect.dataframe.DataFrame"
        }
       ],
       "dbfsResultPath": null,
       "isJsonSchema": true,
       "metadata": {
        "createTempViewForImplicitDf": true,
        "dataframeName": "_sqldf",
        "executionCount": 7
       },
       "overflow": false,
       "plotOptions": {
        "customPlotOptions": {},
        "displayType": "table",
        "pivotAggregation": null,
        "pivotColumns": null,
        "xColumns": null,
        "yColumns": null
       },
       "removedWidgets": [],
       "schema": [
        {
         "metadata": "{}",
         "name": "order_id",
         "type": "\"long\""
        },
        {
         "metadata": "{}",
         "name": "product_id",
         "type": "\"integer\""
        },
        {
         "metadata": "{}",
         "name": "quantity",
         "type": "\"integer\""
        },
        {
         "metadata": "{}",
         "name": "unit_price",
         "type": "\"double\""
        }
       ],
       "type": "table"
      }
     },
     "output_type": "display_data"
    }
   ],
   "source": [
    "SELECT *\n",
    "FROM \n",
    "raw_dlk.blinkit_orders.order_items\n",
    "LIMIT 5"
   ]
  },
  {
   "cell_type": "code",
   "execution_count": 0,
   "metadata": {
    "application/vnd.databricks.v1+cell": {
     "cellMetadata": {
      "byteLimit": 2048000,
      "rowLimit": 10000
     },
     "inputWidgets": {},
     "nuid": "6b1e7c12-658b-44b6-9ecc-d3bd94b43662",
     "showTitle": false,
     "tableResultSettingsMap": {},
     "title": ""
    }
   },
   "outputs": [
    {
     "output_type": "display_data",
     "data": {
      "text/html": [
       "<style scoped>\n",
       "  .table-result-container {\n",
       "    max-height: 300px;\n",
       "    overflow: auto;\n",
       "  }\n",
       "  table, th, td {\n",
       "    border: 1px solid black;\n",
       "    border-collapse: collapse;\n",
       "  }\n",
       "  th, td {\n",
       "    padding: 5px;\n",
       "  }\n",
       "  th {\n",
       "    text-align: left;\n",
       "  }\n",
       "</style><div class='table-result-container'><table class='table-result'><thead style='background-color: white'><tr><th>order_id</th><th>customer_id</th><th>order_date</th><th>promised_delivery_time</th><th>actual_delivery_time</th><th>delivery_status</th><th>order_total</th><th>payment_method</th><th>delivery_partner_id</th><th>store_id</th></tr></thead><tbody><tr><td>1961864118</td><td>30065862</td><td>2024-07-17T08:34:01.000Z</td><td>2024-07-17T08:52:01.000Z</td><td>2024-07-17T08:47:01.000Z</td><td>On Time</td><td>3197.07</td><td>Cash</td><td>63230</td><td>4771</td></tr><tr><td>1549769649</td><td>9573071</td><td>2024-05-28T13:14:29.000Z</td><td>2024-05-28T13:25:29.000Z</td><td>2024-05-28T13:27:29.000Z</td><td>On Time</td><td>976.55</td><td>Cash</td><td>14983</td><td>7534</td></tr><tr><td>9185164487</td><td>45477575</td><td>2024-09-23T13:07:12.000Z</td><td>2024-09-23T13:25:12.000Z</td><td>2024-09-23T13:29:12.000Z</td><td>On Time</td><td>839.05</td><td>UPI</td><td>39859</td><td>9886</td></tr><tr><td>9644738826</td><td>88067569</td><td>2023-11-24T16:16:56.000Z</td><td>2023-11-24T16:34:56.000Z</td><td>2023-11-24T16:33:56.000Z</td><td>On Time</td><td>440.23</td><td>Card</td><td>61497</td><td>7917</td></tr><tr><td>5427684290</td><td>83298567</td><td>2023-11-20T05:00:39.000Z</td><td>2023-11-20T05:17:39.000Z</td><td>2023-11-20T05:18:39.000Z</td><td>On Time</td><td>2526.68</td><td>Cash</td><td>84315</td><td>2741</td></tr></tbody></table></div>"
      ]
     },
     "metadata": {
      "application/vnd.databricks.v1+output": {
       "addedWidgets": {},
       "aggData": [],
       "aggError": "",
       "aggOverflow": false,
       "aggSchema": [],
       "aggSeriesLimitReached": false,
       "aggType": "",
       "arguments": {},
       "columnCustomDisplayInfos": {},
       "data": [
        [
         1961864118,
         30065862,
         "2024-07-17T08:34:01.000Z",
         "2024-07-17T08:52:01.000Z",
         "2024-07-17T08:47:01.000Z",
         "On Time",
         3197.07,
         "Cash",
         63230,
         4771
        ],
        [
         1549769649,
         9573071,
         "2024-05-28T13:14:29.000Z",
         "2024-05-28T13:25:29.000Z",
         "2024-05-28T13:27:29.000Z",
         "On Time",
         976.55,
         "Cash",
         14983,
         7534
        ],
        [
         9185164487,
         45477575,
         "2024-09-23T13:07:12.000Z",
         "2024-09-23T13:25:12.000Z",
         "2024-09-23T13:29:12.000Z",
         "On Time",
         839.05,
         "UPI",
         39859,
         9886
        ],
        [
         9644738826,
         88067569,
         "2023-11-24T16:16:56.000Z",
         "2023-11-24T16:34:56.000Z",
         "2023-11-24T16:33:56.000Z",
         "On Time",
         440.23,
         "Card",
         61497,
         7917
        ],
        [
         5427684290,
         83298567,
         "2023-11-20T05:00:39.000Z",
         "2023-11-20T05:17:39.000Z",
         "2023-11-20T05:18:39.000Z",
         "On Time",
         2526.68,
         "Cash",
         84315,
         2741
        ]
       ],
       "datasetInfos": [
        {
         "name": "_sqldf",
         "schema": {
          "fields": [
           {
            "metadata": {},
            "name": "order_id",
            "nullable": true,
            "type": "long"
           },
           {
            "metadata": {},
            "name": "customer_id",
            "nullable": true,
            "type": "integer"
           },
           {
            "metadata": {},
            "name": "order_date",
            "nullable": true,
            "type": "timestamp"
           },
           {
            "metadata": {},
            "name": "promised_delivery_time",
            "nullable": true,
            "type": "timestamp"
           },
           {
            "metadata": {},
            "name": "actual_delivery_time",
            "nullable": true,
            "type": "timestamp"
           },
           {
            "metadata": {},
            "name": "delivery_status",
            "nullable": true,
            "type": "string"
           },
           {
            "metadata": {},
            "name": "order_total",
            "nullable": true,
            "type": "double"
           },
           {
            "metadata": {},
            "name": "payment_method",
            "nullable": true,
            "type": "string"
           },
           {
            "metadata": {},
            "name": "delivery_partner_id",
            "nullable": true,
            "type": "integer"
           },
           {
            "metadata": {},
            "name": "store_id",
            "nullable": true,
            "type": "integer"
           }
          ],
          "type": "struct"
         },
         "tableIdentifier": null,
         "typeStr": "pyspark.sql.connect.dataframe.DataFrame"
        }
       ],
       "dbfsResultPath": null,
       "isJsonSchema": true,
       "metadata": {
        "createTempViewForImplicitDf": true,
        "dataframeName": "_sqldf",
        "executionCount": 8
       },
       "overflow": false,
       "plotOptions": {
        "customPlotOptions": {},
        "displayType": "table",
        "pivotAggregation": null,
        "pivotColumns": null,
        "xColumns": null,
        "yColumns": null
       },
       "removedWidgets": [],
       "schema": [
        {
         "metadata": "{}",
         "name": "order_id",
         "type": "\"long\""
        },
        {
         "metadata": "{}",
         "name": "customer_id",
         "type": "\"integer\""
        },
        {
         "metadata": "{}",
         "name": "order_date",
         "type": "\"timestamp\""
        },
        {
         "metadata": "{}",
         "name": "promised_delivery_time",
         "type": "\"timestamp\""
        },
        {
         "metadata": "{}",
         "name": "actual_delivery_time",
         "type": "\"timestamp\""
        },
        {
         "metadata": "{}",
         "name": "delivery_status",
         "type": "\"string\""
        },
        {
         "metadata": "{}",
         "name": "order_total",
         "type": "\"double\""
        },
        {
         "metadata": "{}",
         "name": "payment_method",
         "type": "\"string\""
        },
        {
         "metadata": "{}",
         "name": "delivery_partner_id",
         "type": "\"integer\""
        },
        {
         "metadata": "{}",
         "name": "store_id",
         "type": "\"integer\""
        }
       ],
       "type": "table"
      }
     },
     "output_type": "display_data"
    }
   ],
   "source": [
    "SELECT *\n",
    "FROM \n",
    "raw_dlk.blinkit_orders.orders\n",
    "LIMIT 5"
   ]
  },
  {
   "cell_type": "markdown",
   "metadata": {
    "application/vnd.databricks.v1+cell": {
     "cellMetadata": {},
     "inputWidgets": {},
     "nuid": "f3e3774c-c891-4e4d-bf7a-b77bab7046b2",
     "showTitle": false,
     "tableResultSettingsMap": {},
     "title": ""
    }
   },
   "source": [
    "## PERSONALIZED RECIPE FOR CUSTOMERS:"
   ]
  },
  {
   "cell_type": "code",
   "execution_count": 0,
   "metadata": {
    "application/vnd.databricks.v1+cell": {
     "cellMetadata": {
      "byteLimit": 2048000,
      "rowLimit": 10000
     },
     "inputWidgets": {},
     "nuid": "eda7760c-e842-4c7f-9338-367470ad4077",
     "showTitle": false,
     "tableResultSettingsMap": {},
     "title": ""
    }
   },
   "outputs": [
    {
     "output_type": "display_data",
     "data": {
      "text/html": [
       "<style scoped>\n",
       "  .table-result-container {\n",
       "    max-height: 300px;\n",
       "    overflow: auto;\n",
       "  }\n",
       "  table, th, td {\n",
       "    border: 1px solid black;\n",
       "    border-collapse: collapse;\n",
       "  }\n",
       "  th, td {\n",
       "    padding: 5px;\n",
       "  }\n",
       "  th {\n",
       "    text-align: left;\n",
       "  }\n",
       "</style><div class='table-result-container'><table class='table-result'><thead style='background-color: white'><tr><th>CUSTOMER_ID</th><th>TOTAL_ORDERS</th><th>TOTAL_UNIQUE_ORDERS</th><th>ORDERED_ITEMS</th><th>SUGGESTED_RECIPE</th></tr></thead><tbody><tr><td>22210238</td><td>4</td><td>3</td><td>Carrots , Curd , Tomatoes</td><td>What a great combination! Here's a simple and delicious recipe that incorporates Carrots, Curd, and Tomatoes:\n",
       "\n",
       "**Carrot, Tomato, and Curd Raita Salad**\n",
       "\n",
       " Servings: 4-6 people\n",
       "\n",
       "**Ingredients:**\n",
       "\n",
       "* 2 large Carrots, peeled and grated\n",
       "* 1 cup Curd (plain yogurt)\n",
       "* 2 medium Tomatoes, diced\n",
       "* 1/2 teaspoon Cumin powder\n",
       "* 1/2 teaspoon Coriander powder\n",
       "* Salt, to taste\n",
       "* 2 tablespoons Chopped fresh Cilantro (optional)\n",
       "* 1 tablespoon Lemon juice\n",
       "\n",
       "**Instructions:**\n",
       "\n",
       "1. In a large bowl, whisk the curd until smooth.\n",
       "2. Add the grated carrots, diced tomatoes, cumin powder, coriander powder, and salt to the bowl. Mix well.\n",
       "3. Chill the mixture in the refrigerator for at least 30 minutes to allow the flavors to meld.\n",
       "4. Just before serving, garnish with chopped cilantro (if using) and a squeeze of lemon juice.\n",
       "5. Serve the Carrot, Tomato, and Curd Raita Salad as a side dish, or use it as a topping for sandwiches, wraps, or salads.\n",
       "\n",
       "**Tips and Variations:**\n",
       "\n",
       "* You can add some chopped cucumber or bell peppers to the salad for extra flavor and texture.\n",
       "* For a spicy kick, add a pinch of red chili powder or a diced green chili to the mixture.\n",
       "* If you prefer a thicker consistency, you can add some chopped cucumber or a tablespoon of gram flour (besan) to the curd.\n",
       "* This salad is perfect for a light and refreshing snack or as a side dish for Indian-inspired meals.\n",
       "\n",
       "Enjoy your delicious and healthy Carrot, Tomato, and Curd Raita Salad!</td></tr><tr><td>45477575</td><td>3</td><td>2</td><td>Tomatoes , Eggs</td><td>What a great combination! Here's a simple and delicious recipe that combines Tomatoes and Eggs:\n",
       "\n",
       "**Shakshuka with Fresh Tomatoes and Poached Eggs**\n",
       "\n",
       " Servings: 2-3\n",
       "\n",
       "**Ingredients:**\n",
       "\n",
       "* 3 large Tomatoes, diced\n",
       "* 2 Eggs\n",
       "* 1 small Onion, diced\n",
       "* 2 cloves of Garlic, minced\n",
       "* 1 teaspoon Smoked Paprika (optional)\n",
       "* Salt and Pepper, to taste\n",
       "* 2 tablespoons Olive Oil\n",
       "* Fresh Parsley or Cilantro, chopped (for garnish)\n",
       "\n",
       "**Instructions:**\n",
       "\n",
       "1. **Heat the oil**: In a large cast-iron skillet or oven-safe pan, heat the olive oil over medium heat.\n",
       "2. **Sauté the onion and garlic**: Add the diced onion and cook until translucent, about 3-4 minutes. Add the minced garlic and cook for another minute, until fragrant.\n",
       "3. **Add the tomatoes**: Add the diced tomatoes, smoked paprika (if using), salt, and pepper. Stir well to combine.\n",
       "4. **Simmer the tomatoes**: Reduce heat to low and let the tomatoes simmer for 10-15 minutes, stirring occasionally, until they start to break down and form a rich, saucy mixture.\n",
       "5. **Create wells for the eggs**: Use a spoon to create 2-3 wells in the tomato mixture, depending on the number of eggs you're using.\n",
       "6. **Crack in the eggs**: Crack an egg into each well, making sure not to break the yolk.\n",
       "7. **Poach the eggs**: Cover the skillet with a lid and let the eggs poach in the tomato mixture for 5-7 minutes, or until the whites are set and the yolks are cooked to your desired doneness.\n",
       "8. **Garnish and serve**: Garnish with chopped parsley or cilantro, and serve hot with crusty bread or over rice.\n",
       "\n",
       "**Tips and Variations:**\n",
       "\n",
       "* Use fresh, flavorful tomatoes for the best results.\n",
       "* Add some heat with red pepper flakes or diced jalapeños.\n",
       "* Mix in some chopped bell peppers or mushrooms for added flavor and texture.\n",
       "* Serve with a side of toasted bread or pita for a satisfying breakfast or brunch.\n",
       "\n",
       "Enjoy your delicious Shakshuka with Fresh Tomatoes and Poached Eggs!</td></tr><tr><td>10562528</td><td>3</td><td>3</td><td>Curd , Cheese , Potatoes</td><td>What a great combination! Here's a recipe that combines Curd, Cheese, and Potatoes:\n",
       "\n",
       "**Curd and Cheese Stuffed Baked Potatoes**\n",
       "\n",
       " Servings: 4-6 people\n",
       "\n",
       "**Ingredients:**\n",
       "\n",
       "* 4-6 large potatoes\n",
       "* 1 cup curd (plain yogurt)\n",
       "* 1/2 cup grated cheese (Cheddar or Mozzarella work well)\n",
       "* 1/4 cup chopped fresh cilantro (optional)\n",
       "* 1/2 teaspoon salt\n",
       "* 1/4 teaspoon black pepper\n",
       "* 1 tablespoon olive oil\n",
       "\n",
       "**Instructions:**\n",
       "\n",
       "1. **Preheat the oven:** Preheat the oven to 400°F (200°C).\n",
       "2. **Prepare the potatoes:** Scrub the potatoes clean and dry them with a paper towel. Poke some holes in each potato with a fork to allow steam to escape.\n",
       "3. **Bake the potatoes:** Rub the potatoes with olive oil and place them directly on the middle rack of the oven. Bake for 45-60 minutes, or until the potatoes are cooked through and tender when pierced with a fork.\n",
       "4. **Prepare the curd and cheese mixture:** In a bowl, mix together the curd, grated cheese, salt, and black pepper.\n",
       "5. **Stuff the potatoes:** Remove the potatoes from the oven and let them cool for a few minutes. Slice each potato in half lengthwise and fluff the flesh with a fork. Divide the curd and cheese mixture among the potatoes, spooning it into the hollowed-out centers.\n",
       "6. **Top with cilantro (optional):** Sprinkle chopped cilantro on top of the curd and cheese mixture, if using.\n",
       "7. **Return to the oven:** Place the stuffed potatoes back in the oven and bake for an additional 10-15 minutes, or until the cheese is melted and bubbly.\n",
       "8. **Serve:** Remove the potatoes from the oven and serve hot, garnished with additional cilantro if desired.\n",
       "\n",
       "**Tips and Variations:**\n",
       "\n",
       "* You can also add some diced onions, garlic, or chives to the curd and cheese mixture for extra flavor.\n",
       "* If you prefer a crisper potato skin, you can broil the potatoes for an additional 2-3 minutes after stuffing them. Keep an eye on them to prevent burning.\n",
       "* For a spicy kick, you can add some diced jalapeños or red pepper flakes to the curd and cheese mixture.\n",
       "\n",
       "Enjoy your delicious Curd and Cheese Stuffed Baked Potatoes!</td></tr><tr><td>9987182</td><td>3</td><td>3</td><td>Butter , Mangoes , Potatoes</td><td>What an interesting combination! Here's a unique recipe that incorporates all three ingredients:\n",
       "\n",
       "**Mango Potato Gratin with Caramelized Butter**\n",
       "\n",
       " Servings: 4-6\n",
       "\n",
       "**Description:** A sweet and savory dish that combines the natural sweetness of mangoes with the earthiness of potatoes, all tied together with a rich and caramelized butter sauce.\n",
       "\n",
       "**Ingredients:**\n",
       "\n",
       "* 2 large potatoes, thinly sliced\n",
       "* 2 ripe mangoes, diced\n",
       "* 4 tablespoons (1/2 stick) unsalted butter\n",
       "* 1/4 cup granulated sugar\n",
       "* 1/4 cup heavy cream\n",
       "* Salt and pepper to taste\n",
       "* Fresh cilantro leaves for garnish (optional)\n",
       "\n",
       "**Instructions:**\n",
       "\n",
       "1. **Caramelize the butter:** In a small saucepan, melt the butter over medium heat. Continue cooking, stirring occasionally, until the butter turns golden brown and develops a nutty aroma (about 5-7 minutes). Remove from heat and set aside.\n",
       "2. **Prepare the potato slices:** In a large bowl, toss the sliced potatoes with a pinch of salt and pepper until they're evenly coated.\n",
       "3. **Assemble the gratin:** In a 9x13-inch baking dish, create a layer of overlapping potato slices. You can trim the slices to fit the dish.\n",
       "4. **Add the mango layer:** Spread half of the diced mango over the potato layer.\n",
       "5. **Drizzle with caramelized butter:** Pour half of the caramelized butter sauce over the mango layer.\n",
       "6. **Repeat the layers:** Repeat steps 3-5, starting with the potato layer, then the remaining mango, and finally the remaining caramelized butter sauce.\n",
       "7. **Top with cream and sugar:** Drizzle the heavy cream over the top layer of potatoes and sprinkle with granulated sugar.\n",
       "8. **Bake until golden:** Bake the gratin in a preheated oven at 375°F (190°C) for 35-40 minutes, or until the top is golden brown and the potatoes are tender.\n",
       "9. **Garnish and serve:** Remove from the oven and let it cool for a few minutes. Garnish with fresh cilantro leaves, if desired. Serve warm and enjoy!\n",
       "\n",
       "This recipe is perfect for a unique side dish or a light lunch. The caramelized butter adds a rich and depthful flavor, while the mango provides a sweet and refreshing contrast to the earthy potatoes. Bon appétit!</td></tr><tr><td>11446157</td><td>3</td><td>3</td><td>Tomatoes , Eggs , Bread</td><td>What a great combination! Here's a simple and delicious recipe that combines Tomatoes, Eggs, and Bread:\n",
       "\n",
       "**Tomato and Egg Bruschetta**\n",
       "\n",
       "Ingredients:\n",
       "\n",
       "* 4 large Tomatoes, diced\n",
       "* 4 Eggs, hard-boiled and sliced\n",
       "* 4 slices of Bread (preferably a crusty bread or baguette)\n",
       "* 2 cloves of Garlic, minced\n",
       "* 1 tablespoon Olive Oil\n",
       "* Salt and Pepper to taste\n",
       "* Fresh Basil leaves, chopped (optional)\n",
       "\n",
       "Instructions:\n",
       "\n",
       "1. **Toast the Bread**: Preheat your oven to 400°F (200°C). Slice the bread into 1-inch thick slices and place on a baking sheet. Drizzle with olive oil and sprinkle with minced garlic. Bake for 10-12 minutes, or until the bread is toasted and lightly browned.\n",
       "2. **Prepare the Tomatoes**: In a medium bowl, combine the diced tomatoes, salt, and pepper. Mix well to combine.\n",
       "3. **Assemble the Bruschetta**: Once the bread is ready, let it cool for a minute or two. Rub the garlic cloves gently over the toasted bread slices.\n",
       "4. **Top with Tomatoes and Eggs**: Spoon the tomato mixture over the bread slices, leaving a small border around the edges. Top each slice with a sliced hard-boiled egg.\n",
       "5. **Garnish with Basil (optional)**: Sprinkle chopped fresh basil leaves over the top of each slice, if desired.\n",
       "6. **Serve and Enjoy**: Serve the Tomato and Egg Bruschetta immediately, while the bread is still warm and the flavors are fresh.\n",
       "\n",
       "**Tips and Variations**:\n",
       "\n",
       "* Use fresh, ripe tomatoes for the best flavor.\n",
       "* Add some grated cheese, such as mozzarella or parmesan, for an extra burst of flavor.\n",
       "* Substitute the hard-boiled eggs with scrambled or fried eggs, if you prefer.\n",
       "* Add some chopped fresh herbs, such as parsley or oregano, to the tomato mixture for extra flavor.\n",
       "\n",
       "I hope you enjoy this recipe! Let me know if you have any questions or if you'd like any variations or substitutions.</td></tr><tr><td>18259715</td><td>3</td><td>3</td><td>Curd , Tomatoes , Bread</td><td>What a great combination! Here's a simple and delicious recipe that incorporates curd, tomatoes, and bread:\n",
       "\n",
       "**Curd and Tomato Bread Bowl**\n",
       "\n",
       "**Servings:** 2-3\n",
       "**Prep Time:** 15 minutes\n",
       "**Cook Time:** 10 minutes\n",
       "**Total Time:** 25 minutes\n",
       "\n",
       "**Ingredients:**\n",
       "\n",
       "* 1 cup curd (dahi or yogurt)\n",
       "* 2 large tomatoes, diced\n",
       "* 2 slices of bread (white or whole wheat)\n",
       "* 1/4 teaspoon salt\n",
       "* 1/4 teaspoon black pepper\n",
       "* 1 tablespoon chopped fresh cilantro (optional)\n",
       "* 1 tablespoon butter or oil\n",
       "\n",
       "**Instructions:**\n",
       "\n",
       "1. **Prepare the bread bowl:** Cut the crust off the bread slices and hollow out the insides to create a bowl shape. You can use a cookie cutter or a knife to create a decorative edge.\n",
       "2. **Toast the bread:** Preheat a non-stick pan or griddle over medium heat. Place the bread bowls on the pan and toast until they're lightly browned and crispy. Flip them over and toast the other side as well.\n",
       "3. **Prepare the curd mixture:** In a bowl, mix together the curd, salt, and black pepper.\n",
       "4. **Add the diced tomatoes:** Fold in the diced tomatoes into the curd mixture.\n",
       "5. **Assemble the bread bowl:** Place the toasted bread bowls on a serving plate. Spoon the curd and tomato mixture into the bread bowls.\n",
       "6. **Garnish and serve:** Sprinkle chopped cilantro on top (if using) and drizzle with butter or oil. Serve immediately and enjoy!\n",
       "\n",
       "**Tips and Variations:**\n",
       "\n",
       "* You can add some grated cucumber, carrot, or beetroot to the curd mixture for extra flavor and nutrition.\n",
       "* If you prefer a spicy kick, add a pinch of cayenne pepper or red chili powder to the curd mixture.\n",
       "* For a more substantial snack, you can add some chopped nuts or seeds (like almonds or pumpkin seeds) to the curd mixture.\n",
       "* Experiment with different types of bread, such as whole wheat, sourdough, or baguette, to change up the flavor and texture.\n",
       "\n",
       "I hope you enjoy this recipe! Let me know if you have any questions or if you'd like any variations or substitutions.</td></tr><tr><td>28663279</td><td>3</td><td>3</td><td>Cereal , Potatoes , Eggs</td><td>What an interesting combination! Here's a recipe that incorporates all three ingredients:\n",
       "\n",
       "**Cereal Crusted Potato and Egg Frittata**\n",
       "\n",
       "** Servings: 4-6**\n",
       "\n",
       "**Ingredients:**\n",
       "\n",
       "* 2 large potatoes, peeled and diced\n",
       "* 2 cups cereal (e.g., cornflakes or rice krispies)\n",
       "* 6 eggs\n",
       "* 1/2 cup grated cheddar cheese (optional)\n",
       "* Salt and pepper to taste\n",
       "* 2 tablespoons butter or oil\n",
       "\n",
       "**Instructions:**\n",
       "\n",
       "1. **Preheat** your oven to 375°F (190°C).\n",
       "2. **Prepare the potatoes**: Boil the diced potatoes in salted water until they're slightly tender, about 5-7 minutes. Drain and set aside.\n",
       "3. **Make the cereal crust**: In a food processor or blender, blend the cereal into fine crumbs. You can also place the cereal in a plastic bag and crush it with a rolling pin.\n",
       "4. **Prepare the egg mixture**: In a large bowl, whisk together the eggs, salt, and pepper.\n",
       "5. **Assemble the frittata**: In a greased 9-inch (23cm) oven-safe skillet, arrange a layer of potatoes. Pour half of the egg mixture over the potatoes.\n",
       "6. **Add the cereal crust**: Sprinkle the crushed cereal evenly over the egg mixture.\n",
       "7. **Add the remaining egg mixture and cheese (if using)**: Pour the remaining egg mixture over the cereal crust. If using cheese, sprinkle it on top.\n",
       "8. **Bake the frittata**: Bake the frittata in the preheated oven for 25-30 minutes, or until the eggs are set, and the cereal crust is golden brown.\n",
       "9. **Serve and enjoy**: Remove the skillet from the oven and let it cool for a few minutes. Slice the frittata into wedges and serve warm.\n",
       "\n",
       "**Tips and Variations:**\n",
       "\n",
       "* Use different types of cereal to change the flavor and texture of the crust.\n",
       "* Add diced ham, bell peppers, or onions to the egg mixture for extra flavor.\n",
       "* If you prefer a crisper cereal crust, you can broil the frittata for an additional 2-3 minutes after baking. Keep an eye on it to avoid burning.\n",
       "\n",
       "I hope you enjoy this unique recipe!</td></tr><tr><td>24621386</td><td>3</td><td>2</td><td>Bread , Eggs</td><td>A simple yet delicious combination! Here's a recipe that combines bread and eggs:\n",
       "\n",
       "**French Toast with Scrambled Eggs**\n",
       "\n",
       "Ingredients:\n",
       "\n",
       "* 4 slices of bread (white or whole wheat)\n",
       "* 4 eggs\n",
       "* 1/4 teaspoon salt\n",
       "* 1 tablespoon butter, melted\n",
       "* Optional: maple syrup, honey, or fresh fruit for topping\n",
       "\n",
       "Instructions:\n",
       "\n",
       "1. **Prepare the French Toast**:\n",
       "\t* In a shallow dish, whisk together 2 eggs and a pinch of salt until well combined.\n",
       "\t* Heat a non-stick skillet or griddle over medium heat.\n",
       "\t* Dip each bread slice into the egg mixture, coating both sides evenly.\n",
       "\t* Place the coated bread slices on the skillet or griddle and cook for 2-3 minutes on each side, or until golden brown.\n",
       "2. **Scramble the Eggs**:\n",
       "\t* In a separate bowl, whisk together the remaining 2 eggs and a pinch of salt until well combined.\n",
       "\t* Heat a small non-stick pan over medium heat and add the melted butter.\n",
       "\t* Pour in the egg mixture and scramble the eggs until they're cooked through, breaking them up into small curds.\n",
       "3. **Assemble and Serve**:\n",
       "\t* Place two slices of French toast on a plate.\n",
       "\t* Top each slice with a spoonful of scrambled eggs.\n",
       "\t* Add your choice of topping, such as maple syrup, honey, or fresh fruit.\n",
       "\t* Serve immediately and enjoy!\n",
       "\n",
       "This recipe makes a delicious breakfast or brunch dish that's easy to prepare and customize to your taste. You can also add other ingredients, such as diced ham or cheese, to the scrambled eggs for added flavor. Bon appétit!</td></tr><tr><td>12832151</td><td>3</td><td>3</td><td>Tomatoes , Eggs , Potatoes</td><td>What a great combination! Here's a delicious recipe that incorporates Tomatoes, Eggs, and Potatoes:\n",
       "\n",
       "**Tomato, Potato, and Egg Frittata**\n",
       "\n",
       " Servings: 4-6 people\n",
       "\n",
       "**Ingredients:**\n",
       "\n",
       "* 4 large Tomatoes, diced\n",
       "* 4 large Eggs\n",
       "* 2 large Potatoes, peeled and diced\n",
       "* 1 tablespoon Olive Oil\n",
       "* Salt and Pepper to taste\n",
       "* Optional: Chopped fresh herbs like Parsley or Chives for garnish\n",
       "\n",
       "**Instructions:**\n",
       "\n",
       "1. **Preheat your oven to 375°F (190°C).**\n",
       "2. **Prepare the potatoes:** Boil the diced potatoes in a large pot of salted water for about 5-7 minutes, or until they're slightly tender. Drain the potatoes and set them aside.\n",
       "3. **Sauté the tomatoes:** In a large skillet, heat the olive oil over medium heat. Add the diced tomatoes and cook for about 5 minutes, stirring occasionally, until they start to soften.\n",
       "4. **Add the potatoes:** Add the cooked potatoes to the skillet with the tomatoes. Cook for another 2-3 minutes, stirring occasionally, until the potatoes are lightly browned.\n",
       "5. **Whisk the eggs:** In a large bowl, whisk together the eggs and a pinch of salt and pepper.\n",
       "6. **Assemble the frittata:** Pour the whisked eggs over the tomato and potato mixture in the skillet. Cook for about 2-3 minutes, until the edges start to set.\n",
       "7. **Transfer to the oven:** Transfer the skillet to the preheated oven and bake for 15-20 minutes, or until the eggs are almost set and the frittata is golden brown on top.\n",
       "8. **Serve and enjoy:** Remove the skillet from the oven and let it cool for a few minutes. Slice the frittata into wedges and serve hot, garnished with chopped fresh herbs if desired.\n",
       "\n",
       "**Tips and Variations:**\n",
       "\n",
       "* You can add some diced onions, bell peppers, or mushrooms to the skillet with the tomatoes for extra flavor.\n",
       "* Use different types of potatoes, like sweet potatoes or Yukon golds, for a slightly different flavor and texture.\n",
       "* Add some shredded cheese, like cheddar or mozzarella, to the eggs for an extra burst of flavor.\n",
       "* Serve the frittata with a side salad or toast for a satisfying breakfast, lunch, or dinner.\n",
       "\n",
       "I hope you enjoy this recipe! Let me know if you have any questions or if you'd like any variations or substitutions.</td></tr><tr><td>376144</td><td>3</td><td>3</td><td>Cheese , Bread , Carrots</td><td>What a great combination! Here's a simple and delicious recipe that incorporates all three ingredients:\n",
       "\n",
       "**Cheesy Carrot Toast**\n",
       "\n",
       "**Servings:** 4-6\n",
       "**Prep Time:** 15 minutes\n",
       "**Cook Time:** 10-12 minutes\n",
       "**Total Time:** 25-27 minutes\n",
       "\n",
       "**Ingredients:**\n",
       "\n",
       "* 1 cup grated cheese (Cheddar, Mozzarella, or a mix of your favorite cheeses)\n",
       "* 4-6 slices of bread (white or whole wheat)\n",
       "* 2 large carrots, peeled and grated\n",
       "* 1 tablespoon butter\n",
       "* Salt and pepper to taste\n",
       "* Optional: chopped fresh herbs like parsley or thyme for garnish\n",
       "\n",
       "**Instructions:**\n",
       "\n",
       "1. **Preheat your oven** to 375°F (190°C).\n",
       "2. **Butter the bread**: Spread one side of each bread slice with butter.\n",
       "3. **Top with cheese**: Sprinkle grated cheese evenly over the buttered side of each bread slice.\n",
       "4. **Add grated carrots**: Top the cheese with grated carrots, dividing them evenly among the bread slices.\n",
       "5. **Season with salt and pepper**: Sprinkle a pinch of salt and pepper over the carrots.\n",
       "6. **Assemble and bake**: Place the bread slices, cheese-side up, on a baking sheet lined with parchment paper. Bake in the preheated oven for 10-12 minutes, or until the cheese is melted and the bread is toasted golden brown.\n",
       "7. **Garnish and serve**: Remove from the oven and garnish with chopped fresh herbs, if desired. Serve warm and enjoy!\n",
       "\n",
       "**Tips and Variations:**\n",
       "\n",
       "* For an extra crispy crust, try broiling the toast for an additional 1-2 minutes after baking. Keep an eye on it to avoid burning.\n",
       "* Add some spice with a pinch of red pepper flakes or a sprinkle of paprika.\n",
       "* Use different types of cheese, such as feta or goat cheese, for a unique flavor profile.\n",
       "* Serve as a snack, side dish, or light lunch. You can also pair it with a bowl of soup or a green salad for a satisfying meal.\n",
       "\n",
       "I hope you enjoy this recipe! Let me know if you have any questions or if you'd like any variations or substitutions.</td></tr></tbody></table></div>"
      ]
     },
     "metadata": {
      "application/vnd.databricks.v1+output": {
       "addedWidgets": {},
       "aggData": [],
       "aggError": "",
       "aggOverflow": false,
       "aggSchema": [],
       "aggSeriesLimitReached": false,
       "aggType": "",
       "arguments": {},
       "columnCustomDisplayInfos": {},
       "data": [
        [
         22210238,
         4,
         3,
         "Carrots , Curd , Tomatoes",
         "What a great combination! Here's a simple and delicious recipe that incorporates Carrots, Curd, and Tomatoes:\n\n**Carrot, Tomato, and Curd Raita Salad**\n\n Servings: 4-6 people\n\n**Ingredients:**\n\n* 2 large Carrots, peeled and grated\n* 1 cup Curd (plain yogurt)\n* 2 medium Tomatoes, diced\n* 1/2 teaspoon Cumin powder\n* 1/2 teaspoon Coriander powder\n* Salt, to taste\n* 2 tablespoons Chopped fresh Cilantro (optional)\n* 1 tablespoon Lemon juice\n\n**Instructions:**\n\n1. In a large bowl, whisk the curd until smooth.\n2. Add the grated carrots, diced tomatoes, cumin powder, coriander powder, and salt to the bowl. Mix well.\n3. Chill the mixture in the refrigerator for at least 30 minutes to allow the flavors to meld.\n4. Just before serving, garnish with chopped cilantro (if using) and a squeeze of lemon juice.\n5. Serve the Carrot, Tomato, and Curd Raita Salad as a side dish, or use it as a topping for sandwiches, wraps, or salads.\n\n**Tips and Variations:**\n\n* You can add some chopped cucumber or bell peppers to the salad for extra flavor and texture.\n* For a spicy kick, add a pinch of red chili powder or a diced green chili to the mixture.\n* If you prefer a thicker consistency, you can add some chopped cucumber or a tablespoon of gram flour (besan) to the curd.\n* This salad is perfect for a light and refreshing snack or as a side dish for Indian-inspired meals.\n\nEnjoy your delicious and healthy Carrot, Tomato, and Curd Raita Salad!"
        ],
        [
         45477575,
         3,
         2,
         "Tomatoes , Eggs",
         "What a great combination! Here's a simple and delicious recipe that combines Tomatoes and Eggs:\n\n**Shakshuka with Fresh Tomatoes and Poached Eggs**\n\n Servings: 2-3\n\n**Ingredients:**\n\n* 3 large Tomatoes, diced\n* 2 Eggs\n* 1 small Onion, diced\n* 2 cloves of Garlic, minced\n* 1 teaspoon Smoked Paprika (optional)\n* Salt and Pepper, to taste\n* 2 tablespoons Olive Oil\n* Fresh Parsley or Cilantro, chopped (for garnish)\n\n**Instructions:**\n\n1. **Heat the oil**: In a large cast-iron skillet or oven-safe pan, heat the olive oil over medium heat.\n2. **Sauté the onion and garlic**: Add the diced onion and cook until translucent, about 3-4 minutes. Add the minced garlic and cook for another minute, until fragrant.\n3. **Add the tomatoes**: Add the diced tomatoes, smoked paprika (if using), salt, and pepper. Stir well to combine.\n4. **Simmer the tomatoes**: Reduce heat to low and let the tomatoes simmer for 10-15 minutes, stirring occasionally, until they start to break down and form a rich, saucy mixture.\n5. **Create wells for the eggs**: Use a spoon to create 2-3 wells in the tomato mixture, depending on the number of eggs you're using.\n6. **Crack in the eggs**: Crack an egg into each well, making sure not to break the yolk.\n7. **Poach the eggs**: Cover the skillet with a lid and let the eggs poach in the tomato mixture for 5-7 minutes, or until the whites are set and the yolks are cooked to your desired doneness.\n8. **Garnish and serve**: Garnish with chopped parsley or cilantro, and serve hot with crusty bread or over rice.\n\n**Tips and Variations:**\n\n* Use fresh, flavorful tomatoes for the best results.\n* Add some heat with red pepper flakes or diced jalapeños.\n* Mix in some chopped bell peppers or mushrooms for added flavor and texture.\n* Serve with a side of toasted bread or pita for a satisfying breakfast or brunch.\n\nEnjoy your delicious Shakshuka with Fresh Tomatoes and Poached Eggs!"
        ],
        [
         10562528,
         3,
         3,
         "Curd , Cheese , Potatoes",
         "What a great combination! Here's a recipe that combines Curd, Cheese, and Potatoes:\n\n**Curd and Cheese Stuffed Baked Potatoes**\n\n Servings: 4-6 people\n\n**Ingredients:**\n\n* 4-6 large potatoes\n* 1 cup curd (plain yogurt)\n* 1/2 cup grated cheese (Cheddar or Mozzarella work well)\n* 1/4 cup chopped fresh cilantro (optional)\n* 1/2 teaspoon salt\n* 1/4 teaspoon black pepper\n* 1 tablespoon olive oil\n\n**Instructions:**\n\n1. **Preheat the oven:** Preheat the oven to 400°F (200°C).\n2. **Prepare the potatoes:** Scrub the potatoes clean and dry them with a paper towel. Poke some holes in each potato with a fork to allow steam to escape.\n3. **Bake the potatoes:** Rub the potatoes with olive oil and place them directly on the middle rack of the oven. Bake for 45-60 minutes, or until the potatoes are cooked through and tender when pierced with a fork.\n4. **Prepare the curd and cheese mixture:** In a bowl, mix together the curd, grated cheese, salt, and black pepper.\n5. **Stuff the potatoes:** Remove the potatoes from the oven and let them cool for a few minutes. Slice each potato in half lengthwise and fluff the flesh with a fork. Divide the curd and cheese mixture among the potatoes, spooning it into the hollowed-out centers.\n6. **Top with cilantro (optional):** Sprinkle chopped cilantro on top of the curd and cheese mixture, if using.\n7. **Return to the oven:** Place the stuffed potatoes back in the oven and bake for an additional 10-15 minutes, or until the cheese is melted and bubbly.\n8. **Serve:** Remove the potatoes from the oven and serve hot, garnished with additional cilantro if desired.\n\n**Tips and Variations:**\n\n* You can also add some diced onions, garlic, or chives to the curd and cheese mixture for extra flavor.\n* If you prefer a crisper potato skin, you can broil the potatoes for an additional 2-3 minutes after stuffing them. Keep an eye on them to prevent burning.\n* For a spicy kick, you can add some diced jalapeños or red pepper flakes to the curd and cheese mixture.\n\nEnjoy your delicious Curd and Cheese Stuffed Baked Potatoes!"
        ],
        [
         9987182,
         3,
         3,
         "Butter , Mangoes , Potatoes",
         "What an interesting combination! Here's a unique recipe that incorporates all three ingredients:\n\n**Mango Potato Gratin with Caramelized Butter**\n\n Servings: 4-6\n\n**Description:** A sweet and savory dish that combines the natural sweetness of mangoes with the earthiness of potatoes, all tied together with a rich and caramelized butter sauce.\n\n**Ingredients:**\n\n* 2 large potatoes, thinly sliced\n* 2 ripe mangoes, diced\n* 4 tablespoons (1/2 stick) unsalted butter\n* 1/4 cup granulated sugar\n* 1/4 cup heavy cream\n* Salt and pepper to taste\n* Fresh cilantro leaves for garnish (optional)\n\n**Instructions:**\n\n1. **Caramelize the butter:** In a small saucepan, melt the butter over medium heat. Continue cooking, stirring occasionally, until the butter turns golden brown and develops a nutty aroma (about 5-7 minutes). Remove from heat and set aside.\n2. **Prepare the potato slices:** In a large bowl, toss the sliced potatoes with a pinch of salt and pepper until they're evenly coated.\n3. **Assemble the gratin:** In a 9x13-inch baking dish, create a layer of overlapping potato slices. You can trim the slices to fit the dish.\n4. **Add the mango layer:** Spread half of the diced mango over the potato layer.\n5. **Drizzle with caramelized butter:** Pour half of the caramelized butter sauce over the mango layer.\n6. **Repeat the layers:** Repeat steps 3-5, starting with the potato layer, then the remaining mango, and finally the remaining caramelized butter sauce.\n7. **Top with cream and sugar:** Drizzle the heavy cream over the top layer of potatoes and sprinkle with granulated sugar.\n8. **Bake until golden:** Bake the gratin in a preheated oven at 375°F (190°C) for 35-40 minutes, or until the top is golden brown and the potatoes are tender.\n9. **Garnish and serve:** Remove from the oven and let it cool for a few minutes. Garnish with fresh cilantro leaves, if desired. Serve warm and enjoy!\n\nThis recipe is perfect for a unique side dish or a light lunch. The caramelized butter adds a rich and depthful flavor, while the mango provides a sweet and refreshing contrast to the earthy potatoes. Bon appétit!"
        ],
        [
         11446157,
         3,
         3,
         "Tomatoes , Eggs , Bread",
         "What a great combination! Here's a simple and delicious recipe that combines Tomatoes, Eggs, and Bread:\n\n**Tomato and Egg Bruschetta**\n\nIngredients:\n\n* 4 large Tomatoes, diced\n* 4 Eggs, hard-boiled and sliced\n* 4 slices of Bread (preferably a crusty bread or baguette)\n* 2 cloves of Garlic, minced\n* 1 tablespoon Olive Oil\n* Salt and Pepper to taste\n* Fresh Basil leaves, chopped (optional)\n\nInstructions:\n\n1. **Toast the Bread**: Preheat your oven to 400°F (200°C). Slice the bread into 1-inch thick slices and place on a baking sheet. Drizzle with olive oil and sprinkle with minced garlic. Bake for 10-12 minutes, or until the bread is toasted and lightly browned.\n2. **Prepare the Tomatoes**: In a medium bowl, combine the diced tomatoes, salt, and pepper. Mix well to combine.\n3. **Assemble the Bruschetta**: Once the bread is ready, let it cool for a minute or two. Rub the garlic cloves gently over the toasted bread slices.\n4. **Top with Tomatoes and Eggs**: Spoon the tomato mixture over the bread slices, leaving a small border around the edges. Top each slice with a sliced hard-boiled egg.\n5. **Garnish with Basil (optional)**: Sprinkle chopped fresh basil leaves over the top of each slice, if desired.\n6. **Serve and Enjoy**: Serve the Tomato and Egg Bruschetta immediately, while the bread is still warm and the flavors are fresh.\n\n**Tips and Variations**:\n\n* Use fresh, ripe tomatoes for the best flavor.\n* Add some grated cheese, such as mozzarella or parmesan, for an extra burst of flavor.\n* Substitute the hard-boiled eggs with scrambled or fried eggs, if you prefer.\n* Add some chopped fresh herbs, such as parsley or oregano, to the tomato mixture for extra flavor.\n\nI hope you enjoy this recipe! Let me know if you have any questions or if you'd like any variations or substitutions."
        ],
        [
         18259715,
         3,
         3,
         "Curd , Tomatoes , Bread",
         "What a great combination! Here's a simple and delicious recipe that incorporates curd, tomatoes, and bread:\n\n**Curd and Tomato Bread Bowl**\n\n**Servings:** 2-3\n**Prep Time:** 15 minutes\n**Cook Time:** 10 minutes\n**Total Time:** 25 minutes\n\n**Ingredients:**\n\n* 1 cup curd (dahi or yogurt)\n* 2 large tomatoes, diced\n* 2 slices of bread (white or whole wheat)\n* 1/4 teaspoon salt\n* 1/4 teaspoon black pepper\n* 1 tablespoon chopped fresh cilantro (optional)\n* 1 tablespoon butter or oil\n\n**Instructions:**\n\n1. **Prepare the bread bowl:** Cut the crust off the bread slices and hollow out the insides to create a bowl shape. You can use a cookie cutter or a knife to create a decorative edge.\n2. **Toast the bread:** Preheat a non-stick pan or griddle over medium heat. Place the bread bowls on the pan and toast until they're lightly browned and crispy. Flip them over and toast the other side as well.\n3. **Prepare the curd mixture:** In a bowl, mix together the curd, salt, and black pepper.\n4. **Add the diced tomatoes:** Fold in the diced tomatoes into the curd mixture.\n5. **Assemble the bread bowl:** Place the toasted bread bowls on a serving plate. Spoon the curd and tomato mixture into the bread bowls.\n6. **Garnish and serve:** Sprinkle chopped cilantro on top (if using) and drizzle with butter or oil. Serve immediately and enjoy!\n\n**Tips and Variations:**\n\n* You can add some grated cucumber, carrot, or beetroot to the curd mixture for extra flavor and nutrition.\n* If you prefer a spicy kick, add a pinch of cayenne pepper or red chili powder to the curd mixture.\n* For a more substantial snack, you can add some chopped nuts or seeds (like almonds or pumpkin seeds) to the curd mixture.\n* Experiment with different types of bread, such as whole wheat, sourdough, or baguette, to change up the flavor and texture.\n\nI hope you enjoy this recipe! Let me know if you have any questions or if you'd like any variations or substitutions."
        ],
        [
         28663279,
         3,
         3,
         "Cereal , Potatoes , Eggs",
         "What an interesting combination! Here's a recipe that incorporates all three ingredients:\n\n**Cereal Crusted Potato and Egg Frittata**\n\n** Servings: 4-6**\n\n**Ingredients:**\n\n* 2 large potatoes, peeled and diced\n* 2 cups cereal (e.g., cornflakes or rice krispies)\n* 6 eggs\n* 1/2 cup grated cheddar cheese (optional)\n* Salt and pepper to taste\n* 2 tablespoons butter or oil\n\n**Instructions:**\n\n1. **Preheat** your oven to 375°F (190°C).\n2. **Prepare the potatoes**: Boil the diced potatoes in salted water until they're slightly tender, about 5-7 minutes. Drain and set aside.\n3. **Make the cereal crust**: In a food processor or blender, blend the cereal into fine crumbs. You can also place the cereal in a plastic bag and crush it with a rolling pin.\n4. **Prepare the egg mixture**: In a large bowl, whisk together the eggs, salt, and pepper.\n5. **Assemble the frittata**: In a greased 9-inch (23cm) oven-safe skillet, arrange a layer of potatoes. Pour half of the egg mixture over the potatoes.\n6. **Add the cereal crust**: Sprinkle the crushed cereal evenly over the egg mixture.\n7. **Add the remaining egg mixture and cheese (if using)**: Pour the remaining egg mixture over the cereal crust. If using cheese, sprinkle it on top.\n8. **Bake the frittata**: Bake the frittata in the preheated oven for 25-30 minutes, or until the eggs are set, and the cereal crust is golden brown.\n9. **Serve and enjoy**: Remove the skillet from the oven and let it cool for a few minutes. Slice the frittata into wedges and serve warm.\n\n**Tips and Variations:**\n\n* Use different types of cereal to change the flavor and texture of the crust.\n* Add diced ham, bell peppers, or onions to the egg mixture for extra flavor.\n* If you prefer a crisper cereal crust, you can broil the frittata for an additional 2-3 minutes after baking. Keep an eye on it to avoid burning.\n\nI hope you enjoy this unique recipe!"
        ],
        [
         24621386,
         3,
         2,
         "Bread , Eggs",
         "A simple yet delicious combination! Here's a recipe that combines bread and eggs:\n\n**French Toast with Scrambled Eggs**\n\nIngredients:\n\n* 4 slices of bread (white or whole wheat)\n* 4 eggs\n* 1/4 teaspoon salt\n* 1 tablespoon butter, melted\n* Optional: maple syrup, honey, or fresh fruit for topping\n\nInstructions:\n\n1. **Prepare the French Toast**:\n\t* In a shallow dish, whisk together 2 eggs and a pinch of salt until well combined.\n\t* Heat a non-stick skillet or griddle over medium heat.\n\t* Dip each bread slice into the egg mixture, coating both sides evenly.\n\t* Place the coated bread slices on the skillet or griddle and cook for 2-3 minutes on each side, or until golden brown.\n2. **Scramble the Eggs**:\n\t* In a separate bowl, whisk together the remaining 2 eggs and a pinch of salt until well combined.\n\t* Heat a small non-stick pan over medium heat and add the melted butter.\n\t* Pour in the egg mixture and scramble the eggs until they're cooked through, breaking them up into small curds.\n3. **Assemble and Serve**:\n\t* Place two slices of French toast on a plate.\n\t* Top each slice with a spoonful of scrambled eggs.\n\t* Add your choice of topping, such as maple syrup, honey, or fresh fruit.\n\t* Serve immediately and enjoy!\n\nThis recipe makes a delicious breakfast or brunch dish that's easy to prepare and customize to your taste. You can also add other ingredients, such as diced ham or cheese, to the scrambled eggs for added flavor. Bon appétit!"
        ],
        [
         12832151,
         3,
         3,
         "Tomatoes , Eggs , Potatoes",
         "What a great combination! Here's a delicious recipe that incorporates Tomatoes, Eggs, and Potatoes:\n\n**Tomato, Potato, and Egg Frittata**\n\n Servings: 4-6 people\n\n**Ingredients:**\n\n* 4 large Tomatoes, diced\n* 4 large Eggs\n* 2 large Potatoes, peeled and diced\n* 1 tablespoon Olive Oil\n* Salt and Pepper to taste\n* Optional: Chopped fresh herbs like Parsley or Chives for garnish\n\n**Instructions:**\n\n1. **Preheat your oven to 375°F (190°C).**\n2. **Prepare the potatoes:** Boil the diced potatoes in a large pot of salted water for about 5-7 minutes, or until they're slightly tender. Drain the potatoes and set them aside.\n3. **Sauté the tomatoes:** In a large skillet, heat the olive oil over medium heat. Add the diced tomatoes and cook for about 5 minutes, stirring occasionally, until they start to soften.\n4. **Add the potatoes:** Add the cooked potatoes to the skillet with the tomatoes. Cook for another 2-3 minutes, stirring occasionally, until the potatoes are lightly browned.\n5. **Whisk the eggs:** In a large bowl, whisk together the eggs and a pinch of salt and pepper.\n6. **Assemble the frittata:** Pour the whisked eggs over the tomato and potato mixture in the skillet. Cook for about 2-3 minutes, until the edges start to set.\n7. **Transfer to the oven:** Transfer the skillet to the preheated oven and bake for 15-20 minutes, or until the eggs are almost set and the frittata is golden brown on top.\n8. **Serve and enjoy:** Remove the skillet from the oven and let it cool for a few minutes. Slice the frittata into wedges and serve hot, garnished with chopped fresh herbs if desired.\n\n**Tips and Variations:**\n\n* You can add some diced onions, bell peppers, or mushrooms to the skillet with the tomatoes for extra flavor.\n* Use different types of potatoes, like sweet potatoes or Yukon golds, for a slightly different flavor and texture.\n* Add some shredded cheese, like cheddar or mozzarella, to the eggs for an extra burst of flavor.\n* Serve the frittata with a side salad or toast for a satisfying breakfast, lunch, or dinner.\n\nI hope you enjoy this recipe! Let me know if you have any questions or if you'd like any variations or substitutions."
        ],
        [
         376144,
         3,
         3,
         "Cheese , Bread , Carrots",
         "What a great combination! Here's a simple and delicious recipe that incorporates all three ingredients:\n\n**Cheesy Carrot Toast**\n\n**Servings:** 4-6\n**Prep Time:** 15 minutes\n**Cook Time:** 10-12 minutes\n**Total Time:** 25-27 minutes\n\n**Ingredients:**\n\n* 1 cup grated cheese (Cheddar, Mozzarella, or a mix of your favorite cheeses)\n* 4-6 slices of bread (white or whole wheat)\n* 2 large carrots, peeled and grated\n* 1 tablespoon butter\n* Salt and pepper to taste\n* Optional: chopped fresh herbs like parsley or thyme for garnish\n\n**Instructions:**\n\n1. **Preheat your oven** to 375°F (190°C).\n2. **Butter the bread**: Spread one side of each bread slice with butter.\n3. **Top with cheese**: Sprinkle grated cheese evenly over the buttered side of each bread slice.\n4. **Add grated carrots**: Top the cheese with grated carrots, dividing them evenly among the bread slices.\n5. **Season with salt and pepper**: Sprinkle a pinch of salt and pepper over the carrots.\n6. **Assemble and bake**: Place the bread slices, cheese-side up, on a baking sheet lined with parchment paper. Bake in the preheated oven for 10-12 minutes, or until the cheese is melted and the bread is toasted golden brown.\n7. **Garnish and serve**: Remove from the oven and garnish with chopped fresh herbs, if desired. Serve warm and enjoy!\n\n**Tips and Variations:**\n\n* For an extra crispy crust, try broiling the toast for an additional 1-2 minutes after baking. Keep an eye on it to avoid burning.\n* Add some spice with a pinch of red pepper flakes or a sprinkle of paprika.\n* Use different types of cheese, such as feta or goat cheese, for a unique flavor profile.\n* Serve as a snack, side dish, or light lunch. You can also pair it with a bowl of soup or a green salad for a satisfying meal.\n\nI hope you enjoy this recipe! Let me know if you have any questions or if you'd like any variations or substitutions."
        ]
       ],
       "datasetInfos": [
        {
         "name": "_sqldf",
         "schema": {
          "fields": [
           {
            "metadata": {},
            "name": "CUSTOMER_ID",
            "nullable": true,
            "type": "integer"
           },
           {
            "metadata": {},
            "name": "TOTAL_ORDERS",
            "nullable": true,
            "type": "long"
           },
           {
            "metadata": {},
            "name": "TOTAL_UNIQUE_ORDERS",
            "nullable": true,
            "type": "long"
           },
           {
            "metadata": {},
            "name": "ORDERED_ITEMS",
            "nullable": true,
            "type": "string"
           },
           {
            "metadata": {},
            "name": "SUGGESTED_RECIPE",
            "nullable": true,
            "type": "string"
           }
          ],
          "type": "struct"
         },
         "tableIdentifier": null,
         "typeStr": "pyspark.sql.connect.dataframe.DataFrame"
        }
       ],
       "dbfsResultPath": null,
       "isJsonSchema": true,
       "metadata": {
        "createTempViewForImplicitDf": true,
        "dataframeName": "_sqldf",
        "executionCount": 9
       },
       "overflow": false,
       "plotOptions": {
        "customPlotOptions": {},
        "displayType": "table",
        "pivotAggregation": null,
        "pivotColumns": null,
        "xColumns": null,
        "yColumns": null
       },
       "removedWidgets": [],
       "schema": [
        {
         "metadata": "{}",
         "name": "CUSTOMER_ID",
         "type": "\"integer\""
        },
        {
         "metadata": "{}",
         "name": "TOTAL_ORDERS",
         "type": "\"long\""
        },
        {
         "metadata": "{}",
         "name": "TOTAL_UNIQUE_ORDERS",
         "type": "\"long\""
        },
        {
         "metadata": "{}",
         "name": "ORDERED_ITEMS",
         "type": "\"string\""
        },
        {
         "metadata": "{}",
         "name": "SUGGESTED_RECIPE",
         "type": "\"string\""
        }
       ],
       "type": "table"
      }
     },
     "output_type": "display_data"
    }
   ],
   "source": [
    "SELECT * \n",
    "FROM \n",
    "landing.recipe_users.suggested_recipe_users"
   ]
  },
  {
   "cell_type": "code",
   "execution_count": 0,
   "metadata": {
    "application/vnd.databricks.v1+cell": {
     "cellMetadata": {
      "byteLimit": 2048000,
      "rowLimit": 10000
     },
     "inputWidgets": {},
     "nuid": "15cb0608-1648-4db1-8bf3-9e1a115eaa9a",
     "showTitle": false,
     "tableResultSettingsMap": {
      "0": {
       "dataGridStateBlob": "{\"version\":1,\"tableState\":{\"columnPinning\":{\"left\":[\"#row_number#\"],\"right\":[]},\"columnSizing\":{},\"columnVisibility\":{}},\"settings\":{\"columns\":{}},\"syncTimestamp\":1756049511319}",
       "filterBlob": null,
       "queryPlanFiltersBlob": null,
       "tableResultIndex": 0
      }
     },
     "title": ""
    }
   },
   "outputs": [
    {
     "output_type": "display_data",
     "data": {
      "text/html": [
       "<style scoped>\n",
       "  .table-result-container {\n",
       "    max-height: 300px;\n",
       "    overflow: auto;\n",
       "  }\n",
       "  table, th, td {\n",
       "    border: 1px solid black;\n",
       "    border-collapse: collapse;\n",
       "  }\n",
       "  th, td {\n",
       "    padding: 5px;\n",
       "  }\n",
       "  th {\n",
       "    text-align: left;\n",
       "  }\n",
       "</style><div class='table-result-container'><table class='table-result'><thead style='background-color: white'><tr><th>CUSTOMER_ID</th><th>TOTAL_ORDERS</th><th>TOTAL_UNIQUE_ORDERS</th><th>ORDERED_ITEMS</th><th>recipe_in_regional</th></tr></thead><tbody><tr><td>22210238</td><td>4</td><td>3</td><td>Carrots , Curd , Tomatoes</td><td>वाह क्या अद्भुत संयोजन है! यहाँ एक सरल और स्वादिष्ट रेसिपी है जिसमें गाजर, दही और टमाटर शामिल हैं:\n",
       "\n",
       "**गाजर, टमाटर और दही रायता सलाद**\n",
       "\n",
       "परोसने की संख्या: ४-६ लोग\n",
       "\n",
       "**सामग्री:**\n",
       "\n",
       "* २ बड़े गाजर, छिलके उतारे और कद्दूकस किए हुए\n",
       "* १ कप दही (सादा दही)\n",
       "* २ मध्यम टमाटर, कटे हुए\n",
       "* १/२ चम्मच जीरा पाउडर\n",
       "* १/२ चम्मच धनिया पाउडर\n",
       "* नमक, स्वादानुसार\n",
       "* २ बड़े चम्मच कटा हुआ ताज़ा धनिया (वैकल्पिक)\n",
       "* १ बड़ा चम्मच नींबू का रस\n",
       "\n",
       "**निर्देश:**\n",
       "\n",
       "१. एक बड़े बाउल में, दही को चिकना होने तक फेंटें।\n",
       "२. बाउल में कद्दूकस किए हुए गाजर, कटे हुए टमाटर, जीरा पाउडर, धनिया पाउडर और नमक मिलाएं। अच्छी तरह मिलाएं।\n",
       "३. मिश्रण को कम से कम ३० मिनट के लिए फ्रिज में रखें ताकि स्वाद मिल सके।\n",
       "४. परोसने से पहले, कटा हुआ धनिया (यदि उपयोग कर रहे हैं) और नींबू के रस के साथ गार्निश करें।\n",
       "५. गाजर, टमाटर और दही रायता सलाद को एक साइड डिश के रूप में परोसें या सैंडविच, रैप या सलाद के ऊपर उपयोग करें।\n",
       "\n",
       "**सुझाव और विविधताएं:**\n",
       "\n",
       "* आप सलाद में कुछ कटा हुआ खीरा या शिमला मिर्च मिला सकते हैं जिससे स्वाद और बनावट बढ़ जाए।\n",
       "* एक तीखा स्वाद के लिए, मिश्रण में एक चुटकी लाल मिर्च पाउडर या एक कटा हुआ हरी मिर्च मिला सकते हैं।\n",
       "* यदि आप एक गाढ़ा स्थिरता पसंद करते हैं, तो आप दही में कुछ कटा हुआ खीरा या एक बड़ा चम्मच बेसन मिला सकते हैं।\n",
       "* यह सलाद एक हल्का और ताज़ा नाश्ता या भारतीय-प्रेरित भोजन के लिए एक साइड डिश के रूप में उपयुक्त है।\n",
       "\n",
       "अपने स्वादिष्ट और स्वास्थ्यवर्धक गाजर, टमाटर और दही रायता सलाद का आनंद लें!</td></tr><tr><td>45477575</td><td>3</td><td>2</td><td>Tomatoes , Eggs</td><td>वाह क्या अद्भुत संयोजन है! यहाँ एक सरल और स्वादिष्ट नुस्खा है जो टमाटर और अंडे को मिलाता है:\n",
       "\n",
       "**ताजे टमाटर और पोच्ड एग्स के साथ शाकशूका**\n",
       "\n",
       " परोसने की संख्या: २-३\n",
       "\n",
       "**सामग्री:**\n",
       "\n",
       "* ३ बड़े टमाटर, कटे हुए\n",
       "* २ अंडे\n",
       "* १ छोटा प्याज, कटा हुआ\n",
       "* २ लहसुन की कलियाँ, बारीक कटी हुई\n",
       "* १ चम्मच धूम्रपान पाप्रिका (वैकल्पिक)\n",
       "* नमक और काली मिर्च, स्वादानुसार\n",
       "* २ बड़े चम्मच जैतून का तेल\n",
       "* ताजा अजमोद या धनिया, कटा हुआ (गार्निश के लिए)\n",
       "\n",
       "**निर्देश:**\n",
       "\n",
       "१. **तेल गरम करें**: एक बड़े लोहे के तवे या ओवन-सुरक्षित पैन में, मध्यम आंच पर जैतून का तेल गरम करें।\n",
       "२. **प्याज और लहसुन को भूनें**: कटे हुए प्याज को डालें और ३-४ मिनट तक पकाएं, जब तक कि वे पारदर्शी न हो जाएं। बारीक कटी हुई लहसुन को डालें और एक मिनट तक पकाएं, जब तक कि वे सुगंधित न हो जाएं।\n",
       "३. **टमाटर डालें**: कटे हुए टमाटर, धूम्रपान पाप्रिका (यदि उपयोग कर रहे हैं), नमक, और काली मिर्च डालें। अच्छी तरह मिलाएं।\n",
       "४. **टमाटर को पकाएं**: आंच को कम करें और टमाटर को १०-१५ मिनट तक पकने दें, कभी-कभी हिलाते हुए, जब तक कि वे टूटने न लगें और एक समृद्ध, सॉसी मिश्रण न बन जाए।\n",
       "५. **अंडे के लिए गड्ढे बनाएं**: एक चम्मच का उपयोग करके टमाटर के मिश्रण में २-३ गड्ढे बनाएं, अंडे की संख्या के अनुसार।\n",
       "६. **अंडे तोड़ें**: प्रत्येक गड्ढे में एक अंडा तोड़ें, सुनिश्चित करें कि जर्दी न टूटे।\n",
       "७. **अंडे को पोच करें**: तवे को ढक्कन से ढकें और अंडे को टमाटर के मिश्रण में ५-७ मिनट तक पकने दें, या जब तक कि सफेद भाग जम जाए और जर्दी आपकी वांछित पकाने की डिग्री तक पक जाए।\n",
       "८. **गार्निश और परोसें**: कटे हुए अजमोद या धनिया से गार्निश करें, और गरमा गरम परोसें क्रस्टी ब्रेड या चावल के साथ।\n",
       "\n",
       "**सुझाव और विविधताएं:**\n",
       "\n",
       "* सबसे अच्छे परिणामों के लिए ताजे, स्वादिष्ट टमाटर का उपयोग करें।\n",
       "* लाल मिर्च के फ्लेक्स या कटे हुए जलापेनोस के साथ कुछ गर्मी जोड़ें।\n",
       "* कुछ कटे हुए शिमला मिर्च या मशरूम मिलाएं जोड़ने के लिए स्वाद और बनावट।\n",
       "* एक संतोषजनक नाश्ते या दोपहर के भोजन के लिए टोस्टेड ब्रेड या पिटा के साथ परोसें।\n",
       "\n",
       "ताजे टमाटर और पोच्ड एग्स के साथ अपने स्वादिष्ट शाकशूका का आनंद लें!</td></tr><tr><td>10562528</td><td>3</td><td>3</td><td>Curd , Cheese , Potatoes</td><td>वाह क्या अद्भुत संयोजन है! यहाँ एक रेसिपी है जिसमें दही, पनीर और आलू शामिल हैं:\n",
       "\n",
       "**दही और पनीर से भरे हुए बेक्ड आलू**\n",
       "\n",
       "परोसने की संख्या: ४-६ लोग\n",
       "\n",
       "**सामग्री:**\n",
       "\n",
       "* ४-६ बड़े आलू\n",
       "* १ कप दही (सादा दही)\n",
       "* १/२ कप कसा हुआ पनीर (चेडर या मोज्जेरेला अच्छा काम करता है)\n",
       "* १/४ कप कटा हुआ ताज़ा धनिया (वैकल्पिक)\n",
       "* १/२ चम्मच नमक\n",
       "* १/४ चम्मच काली मिर्च\n",
       "* १ बड़ा चम्मच जैतून का तेल\n",
       "\n",
       "**निर्देश:**\n",
       "\n",
       "१. **ओवन को पहले से गरम करें:** ओवन को ४००°F (२००°C) पर गरम करें।\n",
       "२. **आलू तैयार करें:** आलू को साफ करें और एक पेपर तौलिये से सुखाएं। प्रत्येक आलू में एक फोर्क से कुछ छेद करें ताकि भाप निकल सके।\n",
       "३. **आलू बेक करें:** आलू पर जैतून का तेल लगाएं और उन्हें ओवन की मध्य रैक पर रखें। ४५-६० मिनट तक बेक करें, या जब तक आलू पक जाएं और एक फोर्क से छेदा जाए तो नरम हों।\n",
       "४. **दही और पनीर मिश्रण तैयार करें:** एक बाउल में, दही, कसा हुआ पनीर, नमक और काली मिर्च मिलाएं।\n",
       "५. **आलू भरें:** आलू को ओवन से निकालें और कुछ मिनटों के लिए ठंडा होने दें। प्रत्येक आलू को लंबाई में आधा काटें और एक फोर्क से मांस को फ्लफ करें। दही और पनीर मिश्रण को आलू में भरें, इसे खोखले केंद्रों में चम्मच से भरें।\n",
       "६. **धनिया से सजाएं (वैकल्पिक):** यदि उपयोग कर रहे हैं, तो दही और पनीर मिश्रण के ऊपर कटा हुआ धनिया छिड़कें।\n",
       "७. **ओवन में वापस रखें:** भरे हुए आलू को ओवन में वापस रखें और १०-१५ मिनट तक बेक करें, या जब तक पनीर पिघल जाए और बबल हो जाए।\n",
       "८. **परोसें:** आलू को ओवन से निकालें और गरम परोसें, यदि वांछित हो तो अतिरिक्त धनिया से सजाएं।\n",
       "\n",
       "**सुझाव और विविधताएं:**\n",
       "\n",
       "* आप दही और पनीर मिश्रण में कुछ कटा हुआ प्याज, लहसुन या चाइव्स मिला सकते हैं जो अतिरिक्त स्वाद देते हैं।\n",
       "* यदि आप एक क्रिस्पी आलू त्वचा पसंद करते हैं, तो आप भरने के बाद आलू को २-३ मिनट के लिए ब्रोइल कर सकते हैं। जलने से बचने के लिए उन पर नजर रखें।\n",
       "* एक मसालेदार स्वाद के लिए, आप दही और पनीर मिश्रण में कुछ कटा हुआ जलापेनो या लाल मिर्च पाउडर मिला सकते हैं।\n",
       "\n",
       "अपने स्वादिष्ट दही और पनीर से भरे हुए बेक्ड आलू का आनंद लें!</td></tr><tr><td>9987182</td><td>3</td><td>3</td><td>Butter , Mangoes , Potatoes</td><td>क्या दिलचस्प संयोजन है! यहाँ एक अनोखी रेसिपी है जिसमें तीनों सामग्रियों को शामिल किया गया है:\n",
       "\n",
       "**मैंगो आलू ग्रैटिन विद कैरामेलाइज्ड बटर**\n",
       "\n",
       "परोसने की संख्या: ४-६\n",
       "\n",
       "**विवरण:** एक मीठा और नमकीन व्यंजन जो मैंगो की प्राकृतिक मिठास को आलू की मिट्टी के साथ मिलाता है, जो एक समृद्ध और कैरामेलाइज्ड बटर सॉस से जुड़ा होता है।\n",
       "\n",
       "**सामग्री:**\n",
       "\n",
       "* २ बड़े आलू, पतले कटे हुए\n",
       "* २ पके मैंगो, कटे हुए\n",
       "* ४ बड़े चम्मच (१/२ स्टिक) नमक रहित मक्खन\n",
       "* १/४ कप ग्रेन्युलेटेड चीनी\n",
       "* १/४ कप भारी क्रीम\n",
       "* स्वादानुसार नमक और काली मिर्च\n",
       "* ताज़ा धनिया पत्तियाँ सजाने के लिए (वैकल्पिक)\n",
       "\n",
       "**निर्देश:**\n",
       "\n",
       "१. **मक्खन को कैरामेलाइज़ करें:** एक छोटे सॉसपैन में, मध्यम आंच पर मक्खन पिघलाएं। कभी-कभी हिलाते हुए, मक्खन को सुनहरा भूरा होने और एक मेवे की खुशबू विकसित करने तक पकाएं (लगभग ५-७ मिनट)। आंच से हटा दें और अलग रखें।\n",
       "२. **आलू के स्लाइस तैयार करें:** एक बड़े बाउल में, कटे हुए आलू को एक चुटकी नमक और काली मिर्च के साथ मिलाएं जब तक वे समान रूप से लेपित न हों।\n",
       "३. **ग्रैटिन असेंबल करें:** एक ९x१३-इंच बेकिंग डिश में, आलू के स्लाइस की एक परत बनाएं। आप डिश में फिट होने के लिए स्लाइस को काट सकते हैं।\n",
       "४. **मैंगो परत जोड़ें:** आलू परत पर मैंगो के कटे हुए आधे हिस्से को फैलाएं।\n",
       "५. **कैरामेलाइज्ड बटर ड्रिज़ल करें:** मैंगो परत पर कैरामेलाइज्ड बटर सॉस के आधे हिस्से को डालें।\n",
       "६. **परतों को दोहराएं:** चरण ३-५ दोहराएं, आलू परत से शुरू करें, फिर शेष मैंगो, और अंत में शेष कैरामेलाइज्ड बटर सॉस।\n",
       "७. **क्रीम और चीनी के साथ शीर्ष पर:** शीर्ष परत पर भारी क्रीम डालें और ग्रेन्युलेटेड चीनी छिड़कें।\n",
       "८. **सुनहरा होने तक बेक करें:** ग्रैटिन को ३७५°F (१९०°C) पर प्रीहीटेड ओवन में ३५-४० मिनट तक बेक करें, या जब तक कि शीर्ष सुनहरा भूरा न हो जाए और आलू नरम न हो जाएं।\n",
       "९. **सजाएं और परोसें:** ओवन से निकालें और कुछ मिनटों के लिए ठंडा होने दें। ताज़ा धनिया पत्तियों से सजाएं, यदि वांछित हो। गरमा गरम परोसें और आनंद लें!\n",
       "\n",
       "यह रेसिपी एक अनोखे साइड डिश या हल्के लंच के लिए उपयुक्त है। कैरामेलाइज्ड बटर एक समृद्ध और गहरा स्वाद जोड़ता है, जबकि मैंगो एक मीठा और ताज़ा विपरीत प्रदान करता है जो आलू की मिट्टी के साथ मेल खाता है। बोन एपेटिट!</td></tr><tr><td>11446157</td><td>3</td><td>3</td><td>Tomatoes , Eggs , Bread</td><td>वाह क्या अद्भुत संयोजन है! यहाँ एक सरल और स्वादिष्ट नुस्खा है जो टमाटर, अंडे और ब्रेड को मिलाता है:\n",
       "\n",
       "**टमाटर और अंडे की ब्रuschetta**\n",
       "\n",
       "सामग्री:\n",
       "\n",
       "* 4 बड़े टमाटर, कटे हुए\n",
       "* 4 अंडे, हार्ड-बॉयल्ड और स्लाइस्ड\n",
       "* 4 स्लाइस ब्रेड (क्रस्टी ब्रेड या बैगेट पसंदीदा)\n",
       "* 2 लहसुन की कलियाँ, बारीक कटी हुई\n",
       "* 1 बड़ा चम्मच जैतून का तेल\n",
       "* नमक और काली मिर्च स्वादानुसार\n",
       "* ताज़ा बेसिल पत्तियाँ, कटी हुई (वैकल्पिक)\n",
       "\n",
       "निर्देश:\n",
       "\n",
       "1. **ब्रेड को टोस्ट करें**: अपने ओवन को 400°F (200°C) पर प्रीहीट करें। ब्रेड को 1-इंच मोटे स्लाइस में काटें और एक बेकिंग शीट पर रखें। जैतून का तेल ड्रिज़ल करें और बारीक कटा हुआ लहसुन छिड़कें। 10-12 मिनट तक बेक करें, या जब तक ब्रेड टोस्टेड और हल्का भूरा न हो जाए।\n",
       "2. **टमाटर तैयार करें**: एक मध्यम आकार के बाउल में, कटे हुए टमाटर, नमक, और काली मिर्च मिलाएं। अच्छी तरह मिलाएं।\n",
       "3. **ब्रuschetta असेंबल करें**: जब ब्रेड तैयार हो, तो इसे एक मिनट या दो के लिए ठंडा होने दें। टोस्टेड ब्रेड स्लाइस पर लहसुन की कलियों को हल्के से रगड़ें।\n",
       "4. **टमाटर और अंडे से टॉप करें**: टमाटर के मिश्रण को ब्रेड स्लाइस पर चम्मच से डालें, किनारों के आसपास एक छोटी सी सीमा छोड़कर। प्रत्येक स्लाइस पर एक स्लाइस्ड हार्ड-बॉयल्ड अंडा रखें।\n",
       "5. **बेसिल से गार्निश करें (वैकल्पिक)**: यदि वांछित हो, तो प्रत्येक स्लाइस के ऊपर ताज़ा बेसिल पत्तियों को छिड़कें।\n",
       "6. **परोसें और आनंद लें**: टमाटर और अंडे की ब्रuschetta को तुरंत परोसें, जब ब्रेड अभी भी गर्म है और स्वाद ताज़ा है।\n",
       "\n",
       "**सुझाव और विविधताएं**:\n",
       "\n",
       "* सबसे अच्छे स्वाद के लिए ताज़े और पके हुए टमाटर का उपयोग करें।\n",
       "* एक अतिरिक्त स्वाद के लिए मोज्जेरेला या पार्मेसन जैसे कुछ कसा हुआ पनीर जोड़ें।\n",
       "* यदि आप पसंद करते हैं, तो हार्ड-बॉयल्ड अंडे की जगह स्क्रैम्बल्ड या तले हुए अंडे का उपयोग करें।\n",
       "* टमाटर के मिश्रण में कुछ कटी हुई ताज़ा जड़ी-बूटियाँ, जैसे कि अजवायन या ओरेगैनो, जोड़कर अतिरिक्त स्वाद प्राप्त करें।\n",
       "\n",
       "मुझे आशा है कि आपको यह नुस्खा पसंद आएगा! यदि आपके पास कोई प्रश्न हैं या यदि आप किसी भिन्नता या प्रतिस्थापन के बारे में जानना चाहते हैं, तो मुझे बताएं।</td></tr><tr><td>18259715</td><td>3</td><td>3</td><td>Curd , Tomatoes , Bread</td><td>क्या यह एक अद्भुत संयोजन है! यहाँ एक सरल और स्वादिष्ट रेसिपी है जिसमें दही, टमाटर, और ब्रेड शामिल हैं:\n",
       "\n",
       "**दही और टमाटर ब्रेड बाउल**\n",
       "\n",
       "**परोसने की संख्या:** 2-3\n",
       "**तैयारी का समय:** 15 मिनट\n",
       "**पकाने का समय:** 10 मिनट\n",
       "**कुल समय:** 25 मिनट\n",
       "\n",
       "**सामग्री:**\n",
       "\n",
       "* 1 कप दही (दही या दही)\n",
       "* 2 बड़े टमाटर, कटे हुए\n",
       "* 2 स्लाइस ब्रेड (सफेद या गेहूं)\n",
       "* 1/4 चम्मच नमक\n",
       "* 1/4 चम्मच काली मिर्च\n",
       "* 1 बड़ा चम्मच कटा हुआ ताज़ा धनिया (वैकल्पिक)\n",
       "* 1 बड़ा चम्मच मक्खन या तेल\n",
       "\n",
       "**निर्देश:**\n",
       "\n",
       "1. **ब्रेड बाउल तैयार करें:** ब्रेड स्लाइस के क्रस्ट को काट लें और अंदर को खोखला करें ताकि एक बाउल आकार बन जाए। आप एक कुकी कटर या चाकू का उपयोग करके एक सजावटी किनारा बना सकते हैं।\n",
       "2. **ब्रेड को टोस्ट करें:** एक नॉन-स्टिक पैन या ग्रिडल को मध्यम आंच पर गरम करें। ब्रेड बाउल को पैन पर रखें और उन्हें हल्का भूरा और क्रिस्पी होने तक टोस्ट करें। उन्हें पलटने और दूसरी तरफ भी टोस्ट करें।\n",
       "3. **दही मिश्रण तैयार करें:** एक बाउल में, दही, नमक, और काली मिर्च मिलाएं।\n",
       "4. **कटे हुए टमाटर मिलाएं:** दही मिश्रण में कटे हुए टमाटर मिलाएं।\n",
       "5. **ब्रेड बाउल असेंबल करें:** टोस्ट किए हुए ब्रेड बाउल को एक सर्विंग प्लेट पर रखें। दही और टमाटर मिश्रण को ब्रेड बाउल में डालें।\n",
       "6. **गार्निश और परोसें:** कटा हुआ धनिया ऊपर से छिड़कें (यदि उपयोग कर रहे हैं) और मक्खन या तेल के साथ परोसें। तुरंत परोसें और आनंद लें!\n",
       "\n",
       "**सुझाव और विविधताएं:**\n",
       "\n",
       "* आप दही मिश्रण में कुछ कद्दू, गाजर, या चुकंदर मिला सकते हैं जो अतिरिक्त स्वाद और पोषण के लिए है।\n",
       "* यदि आप एक मसालेदार स्वाद पसंद करते हैं, तो दही मिश्रण में एक चुटकी केयेन पेपर या लाल मिर्च पाउडर मिला सकते हैं।\n",
       "* एक अधिक महत्वपूर्ण नाश्ते के लिए, आप दही मिश्रण में कुछ कटे हुए नट्स या बीज (जैसे बादाम या कद्दू के बीज) मिला सकते हैं।\n",
       "* विभिन्न प्रकार के ब्रेड, जैसे कि गेहूं, सोरडौ, या बैगेट, का उपयोग करके स्वाद और बनावट को बदलने का प्रयास करें।\n",
       "\n",
       "मुझे आशा है कि आपको यह रेसिपी पसंद आएगी! यदि आपके पास कोई प्रश्न हैं या आप किसी भी विविधता या प्रतिस्थापन के बारे में जानना चाहते हैं, तो मुझे बताएं।</td></tr><tr><td>28663279</td><td>3</td><td>3</td><td>Cereal , Potatoes , Eggs</td><td>क्या दिलचस्प संयोजन है! यहाँ एक नुस्खा है जिसमें तीनों सामग्रियों को शामिल किया गया है:\n",
       "\n",
       "**सेरेल क्रस्टेड आलू और एग फ्रिटाटा**\n",
       "\n",
       "**परोसने की संख्या: ४-६**\n",
       "\n",
       "**सामग्री:**\n",
       "\n",
       "* २ बड़े आलू, छिलके उतारे और कटे हुए\n",
       "* २ कप सेरेल (जैसे कि कॉर्नफ्लेक्स या राइस क्रिस्पीज)\n",
       "* ६ अंडे\n",
       "* १/२ कप कसा हुआ चेडर चीज़ (वैकल्पिक)\n",
       "* स्वादानुसार नमक और काली मिर्च\n",
       "* २ बड़े चम्मच मक्खन या तेल\n",
       "\n",
       "**निर्देश:**\n",
       "\n",
       "१. **ओवन को पहले से गरम करें**: अपने ओवन को १९०°C (३७५°F) पर गरम करें।\n",
       "२. **आलू तैयार करें**: नमकीन पानी में कटे हुए आलू को ५-७ मिनट तक उबालें जब तक वे थोड़े नरम न हो जाएं। पानी निकालें और अलग रखें।\n",
       "३. **सेरेल क्रस्ट बनाएं**: एक फूड प्रोसेसर या ब्लेंडर में, सेरेल को बारीक क्रम्ब्स में पीसें। आप सेरेल को एक प्लास्टिक बैग में रखकर एक रोलिंग पिन से क्रश भी कर सकते हैं।\n",
       "४. **अंडे का मिश्रण तैयार करें**: एक बड़े बाउल में, अंडे, नमक, और काली मिर्च को अच्छी तरह मिलाएं।\n",
       "५. **फ्रिटाटा असेंबल करें**: एक ग्रीस किए हुए ९-इंच (२३सेमी) ओवन-सुरक्षित स्किलेट में, आलू की एक परत व्यवस्थित करें। अंडे के मिश्रण का आधा हिस्सा आलू पर डालें।\n",
       "६. **सेरेल क्रस्ट जोड़ें**: क्रश किए हुए सेरेल को अंडे के मिश्रण पर समान रूप से छिड़कें।\n",
       "७. **बाकी अंडे का मिश्रण और चीज़ (यदि उपयोग कर रहे हैं) जोड़ें**: बाकी अंडे का मिश्रण सेरेल क्रस्ट पर डालें। यदि चीज़ का उपयोग कर रहे हैं, तो उसे ऊपर से छिड़कें।\n",
       "८. **फ्रिटाटा बेक करें**: फ्रिटाटा को पहले से गरम किए हुए ओवन में २५-३० मिनट तक बेक करें, या जब तक अंडे सेट न हो जाएं और सेरेल क्रस्ट सुनहरा भूरा न हो जाए।\n",
       "९. **परोसें और आनंद लें**: स्किलेट को ओवन से निकालें और कुछ मिनट तक ठंडा होने दें। फ्रिटाटा को वेजेज में काटें और गरम परोसें।\n",
       "\n",
       "**सुझाव और विविधताएं:**\n",
       "\n",
       "* सेरेल क्रस्ट के स्वाद और बनावट को बदलने के लिए विभिन्न प्रकार के सेरेल का उपयोग करें।\n",
       "* अंडे के मिश्रण में कटा हुआ हैम, बेल मिर्च, या प्याज मिलाएं।\n",
       "* यदि आप एक क्रिस्पी सेरेल क्रस्ट पसंद करते हैं, तो आप फ्रिटाटा को बेक करने के बाद २-३ मिनट तक ब्रोइल कर सकते हैं। इसे जलने से बचाने के लिए नजर रखें।\n",
       "\n",
       "मुझे उम्मीद है कि आपको यह अनोखा नुस्खा पसंद आएगा!</td></tr><tr><td>24621386</td><td>3</td><td>2</td><td>Bread , Eggs</td><td>एक सरल लेकिन स्वादिष्ट संयोजन! यहाँ एक नुस्खा है जो ब्रेड और अंडे को मिलाता है:\n",
       "\n",
       "**फ्रेंच टोस्ट với स्क्रैम्बल्ड एग्स**\n",
       "\n",
       "सामग्री:\n",
       "\n",
       "* 4 स्लाइस ब्रेड (सफेद या गेहूं)\n",
       "* 4 अंडे\n",
       "* 1/4 चम्मच नमक\n",
       "* 1 बड़ा चम्मच मक्खन, पिघला हुआ\n",
       "* वैकल्पिक: मेपल सिरप, शहद, या ताज़ा फल टॉपिंग के लिए\n",
       "\n",
       "निर्देश:\n",
       "\n",
       "1. **फ्रेंच टोस्ट तैयार करें**:\n",
       "\t* एक छोटे प्याले में, 2 अंडे और एक चुटकी नमक को अच्छी तरह मिलाएं।\n",
       "\t* मध्यम आंच पर एक नॉन-स्टिक स्किलेट या ग्रिडल गरम करें।\n",
       "\t* प्रत्येक ब्रेड स्लाइस को अंडे के मिश्रण में डुबोएं, दोनों तरफ समान रूप से कोट करें।\n",
       "\t* कोटेड ब्रेड स्लाइस को स्किलेट या ग्रिडल पर रखें और प्रत्येक तरफ 2-3 मिनट तक पकाएं, या सुनहरा भूरा होने तक।\n",
       "2. **अंडे स्क्रैम्बल करें**:\n",
       "\t* एक अलग प्याले में, शेष 2 अंडे और एक चुटकी नमक को अच्छी तरह मिलाएं।\n",
       "\t* मध्यम आंच पर एक छोटे नॉन-स्टिक पैन में पिघला हुआ मक्खन डालें।\n",
       "\t* अंडे के मिश्रण को डालें और अंडे को पकाएं जब तक वे पक न जाएं, छोटे कर्ड्स में तोड़ दें।\n",
       "3. **संयोजित और परोसें**:\n",
       "\t* एक प्लेट पर दो स्लाइस फ्रेंच टोस्ट रखें।\n",
       "\t* प्रत्येक स्लाइस पर एक चम्मच स्क्रैम्बल्ड एग्स डालें।\n",
       "\t* अपनी पसंद की टॉपिंग जोड़ें, जैसे कि मेपल सिरप, शहद, या ताज़ा फल।\n",
       "\t* तुरंत परोसें और आनंद लें!\n",
       "\n",
       "यह नुस्खा एक स्वादिष्ट नाश्ता या दोपहर का भोजन बनाता है जो आसानी से तैयार किया जा सकता है और आपके स्वाद के अनुसार अनुकूलित किया जा सकता है। आप स्क्रैम्बल्ड एग्स में अन्य सामग्री, जैसे कि कटा हुआ हैम या पनीर, जोड़ सकते हैं जोड़ने के लिए अतिरिक्त स्वाद के लिए। बोन एपेटिट!</td></tr><tr><td>12832151</td><td>3</td><td>3</td><td>Tomatoes , Eggs , Potatoes</td><td>वाह क्या अद्भुत संयोजन है! यहाँ एक स्वादिष्ट नुस्खा है जिसमें टमाटर, अंडे और आलू शामिल हैं:\n",
       "\n",
       "**टमाटर, आलू और अंडे की फ्रिटाटा**\n",
       "\n",
       " परोसने की संख्या: 4-6 लोग\n",
       "\n",
       "**सामग्री:**\n",
       "\n",
       "* 4 बड़े टमाटर, कटे हुए\n",
       "* 4 बड़े अंडे\n",
       "* 2 बड़े आलू, छिलके उतारे और कटे हुए\n",
       "* 1 बड़ा चम्मच जैतून का तेल\n",
       "* स्वादानुसार नमक और काली मिर्च\n",
       "* वैकल्पिक: ताज़ा जड़ी-बूटियों जैसे अजमोद या चाइव्स के साथ सजाने के लिए\n",
       "\n",
       "**निर्देश:**\n",
       "\n",
       "1. **ओवन को 375°F (190°C) पर प्रीहीट करें।**\n",
       "2. **आलू तैयार करें:** एक बड़े पैन में नमकीन पानी में कटे हुए आलू को 5-7 मिनट तक उबालें, या जब तक वे थोड़े नरम न हों। आलू को निकालें और अलग रखें।\n",
       "3. **टमाटर को सेंकें:** एक बड़े पैन में मध्यम आंच पर जैतून का तेल गरम करें। कटे हुए टमाटर डालें और 5 मिनट तक पकाएं, कभी-कभी हिलाते हुए, जब तक वे नरम न होने लगें।\n",
       "4. **आलू डालें:** टमाटर के साथ पके हुए आलू को पैन में डालें। 2-3 मिनट तक पकाएं, कभी-कभी हिलाते हुए, जब तक आलू हल्के सुनहरे भूरे रंग के न हों।\n",
       "5. **अंडे को फेंटें:** एक बड़े बाउल में अंडे और एक चुटकी नमक और काली मिर्च को मिलाएं।\n",
       "6. **फ्रिटाटा को इकट्ठा करें:** पैन में टमाटर और आलू के मिश्रण पर फेंटे हुए अंडे डालें। 2-3 मिनट तक पकाएं, जब तक कि किनारे सेट न होने लगें।\n",
       "7. **ओवन में स्थानांतरित करें:** पैन को प्रीहीटेड ओवन में स्थानांतरित करें और 15-20 मिनट तक बेक करें, या जब तक अंडे लगभग सेट न हों और फ्रिटाटा ऊपर से सुनहरा भूरा न हो जाए।\n",
       "8. **परोसें और आनंद लें:** पैन को ओवन से निकालें और कुछ मिनट तक ठंडा होने दें। फ्रिटाटा को वेजेज में काटें और गरम परोसें, यदि वांछित हो तो ताज़ा जड़ी-बूटियों से सजाएं।\n",
       "\n",
       "**सुझाव और विविधताएं:**\n",
       "\n",
       "* आप टमाटर के साथ पैन में कुछ कटे हुए प्याज, शिमला मिर्च या मशरूम डाल सकते हैं अतिरिक्त स्वाद के लिए।\n",
       "* अलग-अलग प्रकार के आलू, जैसे कि मीठे आलू या युकोन गोल्ड, थोड़े अलग स्वाद और बनावट के लिए उपयोग करें।\n",
       "* अंडे में कुछ कसा हुआ पनीर, जैसे कि चेडर या मोज्जेरेला, डालें अतिरिक्त स्वाद के लिए।\n",
       "* फ्रिटाटा को एक साइड सलाद या टोस्ट के साथ परोसें एक संतोषजनक नाश्ते, दोपहर के भोजन या रात के खाने के लिए।\n",
       "\n",
       "मुझे आशा है कि आपको यह नुस्खा पसंद आएगा! यदि आपके पास कोई प्रश्न हैं या यदि आप किसी भी विविधता या प्रतिस्थापन के बारे में जानना चाहते हैं, तो मुझे बताएं।</td></tr><tr><td>376144</td><td>3</td><td>3</td><td>Cheese , Bread , Carrots</td><td>वाह क्या अद्भुत संयोजन है! यहाँ एक सरल और स्वादिष्ट नुस्खा है जिसमें तीनों सामग्रियों को शामिल किया गया है:\n",
       "\n",
       "**चीज़ कैरेट टोस्ट**\n",
       "\n",
       "**परोसने की संख्या:** 4-6\n",
       "**तैयारी का समय:** 15 मिनट\n",
       "**पकाने का समय:** 10-12 मिनट\n",
       "**कुल समय:** 25-27 मिनट\n",
       "\n",
       "**सामग्री:**\n",
       "\n",
       "* 1 कप कसा हुआ चीज़ (चेडर, मोज्जेरेला, या आपके पसंदीदा चीज़ का मिश्रण)\n",
       "* 4-6 स्लाइस ब्रेड (सफेद या गेहूं का)\n",
       "* 2 बड़े गाजर, छिलके उतारे और कसे हुए\n",
       "* 1 बड़ा चम्मच मक्खन\n",
       "* स्वादानुसार नमक और काली मिर्च\n",
       "* वैकल्पिक: ताज़ा जड़ी-बूटियों जैसे अजवायन या थाइम के साथ सजाने के लिए\n",
       "\n",
       "**निर्देश:**\n",
       "\n",
       "1. **ओवन को पहले से गरम करें** 190°C (375°F) पर।\n",
       "2. **ब्रेड पर मक्खन लगाएं**: प्रत्येक ब्रेड स्लाइस के एक तरफ मक्खन लगाएं।\n",
       "3. **चीज़ डालें**: प्रत्येक ब्रेड स्लाइस के मक्खन वाले तरफ कसा हुआ चीज़ समान रूप से छिड़कें।\n",
       "4. **कसे हुए गाजर डालें**: चीज़ के ऊपर कसे हुए गाजर डालें, ब्रेड स्लाइसों में समान रूप से विभाजित करें।\n",
       "5. **नमक और काली मिर्च छिड़कें**: गाजर पर थोड़ा नमक और काली मिर्च छिड़कें।\n",
       "6. **सजाएं और बेक करें**: ब्रेड स्लाइसों को चीज़ वाली तरफ ऊपर रखकर, पार्चमेंट पेपर से ढकी बेकिंग शीट पर रखें। पहले से गरम ओवन में 10-12 मिनट तक बेक करें, या जब तक चीज़ पिघल न जाए और ब्रेड सुनहरा भूरा न हो जाए।\n",
       "7. **सजाएं और परोसें**: ओवन से निकालें और ताज़ा जड़ी-बूटियों से सजाएं, यदि वांछित हो। गरमा गरम परोसें और आनंद लें!\n",
       "\n",
       "**सुझाव और विविधताएं:**\n",
       "\n",
       "* एक अतिरिक्त क्रिस्पी क्रस्ट के लिए, बेकिंग के बाद 1-2 मिनट के लिए टोस्ट को ब्रोइल करने का प्रयास करें। जलने से बचने के लिए इस पर नजर रखें।\n",
       "* लाल मिर्च के फ्लेक्स या पाप्रिका के एक चुटकी के साथ थोड़ा मसाला जोड़ें।\n",
       "* फेटा या गोट चीज़ जैसे विभिन्न प्रकार के चीज़ का उपयोग करके एक अनोखा स्वाद प्रोफाइल प्राप्त करें।\n",
       "* इसे एक नाश्ते, साइड डिश, या हल्के दोपहर के भोजन के रूप में परोसें। आप इसे एक सूप या एक हरी सलाद के साथ जोड़कर एक संतोषजनक भोजन बना सकते हैं।\n",
       "\n",
       "मुझे आशा है कि आपको यह नुस्खा पसंद आएगा! यदि आपके पास कोई प्रश्न हैं या यदि आप किसी भी विविधता या प्रतिस्थापन के बारे में जानना चाहते हैं, तो मुझे बताएं।</td></tr></tbody></table></div>"
      ]
     },
     "metadata": {
      "application/vnd.databricks.v1+output": {
       "addedWidgets": {},
       "aggData": [],
       "aggError": "",
       "aggOverflow": false,
       "aggSchema": [],
       "aggSeriesLimitReached": false,
       "aggType": "",
       "arguments": {},
       "columnCustomDisplayInfos": {},
       "data": [
        [
         22210238,
         4,
         3,
         "Carrots , Curd , Tomatoes",
         "वाह क्या अद्भुत संयोजन है! यहाँ एक सरल और स्वादिष्ट रेसिपी है जिसमें गाजर, दही और टमाटर शामिल हैं:\n\n**गाजर, टमाटर और दही रायता सलाद**\n\nपरोसने की संख्या: ४-६ लोग\n\n**सामग्री:**\n\n* २ बड़े गाजर, छिलके उतारे और कद्दूकस किए हुए\n* १ कप दही (सादा दही)\n* २ मध्यम टमाटर, कटे हुए\n* १/२ चम्मच जीरा पाउडर\n* १/२ चम्मच धनिया पाउडर\n* नमक, स्वादानुसार\n* २ बड़े चम्मच कटा हुआ ताज़ा धनिया (वैकल्पिक)\n* १ बड़ा चम्मच नींबू का रस\n\n**निर्देश:**\n\n१. एक बड़े बाउल में, दही को चिकना होने तक फेंटें।\n२. बाउल में कद्दूकस किए हुए गाजर, कटे हुए टमाटर, जीरा पाउडर, धनिया पाउडर और नमक मिलाएं। अच्छी तरह मिलाएं।\n३. मिश्रण को कम से कम ३० मिनट के लिए फ्रिज में रखें ताकि स्वाद मिल सके।\n४. परोसने से पहले, कटा हुआ धनिया (यदि उपयोग कर रहे हैं) और नींबू के रस के साथ गार्निश करें।\n५. गाजर, टमाटर और दही रायता सलाद को एक साइड डिश के रूप में परोसें या सैंडविच, रैप या सलाद के ऊपर उपयोग करें।\n\n**सुझाव और विविधताएं:**\n\n* आप सलाद में कुछ कटा हुआ खीरा या शिमला मिर्च मिला सकते हैं जिससे स्वाद और बनावट बढ़ जाए।\n* एक तीखा स्वाद के लिए, मिश्रण में एक चुटकी लाल मिर्च पाउडर या एक कटा हुआ हरी मिर्च मिला सकते हैं।\n* यदि आप एक गाढ़ा स्थिरता पसंद करते हैं, तो आप दही में कुछ कटा हुआ खीरा या एक बड़ा चम्मच बेसन मिला सकते हैं।\n* यह सलाद एक हल्का और ताज़ा नाश्ता या भारतीय-प्रेरित भोजन के लिए एक साइड डिश के रूप में उपयुक्त है।\n\nअपने स्वादिष्ट और स्वास्थ्यवर्धक गाजर, टमाटर और दही रायता सलाद का आनंद लें!"
        ],
        [
         45477575,
         3,
         2,
         "Tomatoes , Eggs",
         "वाह क्या अद्भुत संयोजन है! यहाँ एक सरल और स्वादिष्ट नुस्खा है जो टमाटर और अंडे को मिलाता है:\n\n**ताजे टमाटर और पोच्ड एग्स के साथ शाकशूका**\n\n परोसने की संख्या: २-३\n\n**सामग्री:**\n\n* ३ बड़े टमाटर, कटे हुए\n* २ अंडे\n* १ छोटा प्याज, कटा हुआ\n* २ लहसुन की कलियाँ, बारीक कटी हुई\n* १ चम्मच धूम्रपान पाप्रिका (वैकल्पिक)\n* नमक और काली मिर्च, स्वादानुसार\n* २ बड़े चम्मच जैतून का तेल\n* ताजा अजमोद या धनिया, कटा हुआ (गार्निश के लिए)\n\n**निर्देश:**\n\n१. **तेल गरम करें**: एक बड़े लोहे के तवे या ओवन-सुरक्षित पैन में, मध्यम आंच पर जैतून का तेल गरम करें।\n२. **प्याज और लहसुन को भूनें**: कटे हुए प्याज को डालें और ३-४ मिनट तक पकाएं, जब तक कि वे पारदर्शी न हो जाएं। बारीक कटी हुई लहसुन को डालें और एक मिनट तक पकाएं, जब तक कि वे सुगंधित न हो जाएं।\n३. **टमाटर डालें**: कटे हुए टमाटर, धूम्रपान पाप्रिका (यदि उपयोग कर रहे हैं), नमक, और काली मिर्च डालें। अच्छी तरह मिलाएं।\n४. **टमाटर को पकाएं**: आंच को कम करें और टमाटर को १०-१५ मिनट तक पकने दें, कभी-कभी हिलाते हुए, जब तक कि वे टूटने न लगें और एक समृद्ध, सॉसी मिश्रण न बन जाए।\n५. **अंडे के लिए गड्ढे बनाएं**: एक चम्मच का उपयोग करके टमाटर के मिश्रण में २-३ गड्ढे बनाएं, अंडे की संख्या के अनुसार।\n६. **अंडे तोड़ें**: प्रत्येक गड्ढे में एक अंडा तोड़ें, सुनिश्चित करें कि जर्दी न टूटे।\n७. **अंडे को पोच करें**: तवे को ढक्कन से ढकें और अंडे को टमाटर के मिश्रण में ५-७ मिनट तक पकने दें, या जब तक कि सफेद भाग जम जाए और जर्दी आपकी वांछित पकाने की डिग्री तक पक जाए।\n८. **गार्निश और परोसें**: कटे हुए अजमोद या धनिया से गार्निश करें, और गरमा गरम परोसें क्रस्टी ब्रेड या चावल के साथ।\n\n**सुझाव और विविधताएं:**\n\n* सबसे अच्छे परिणामों के लिए ताजे, स्वादिष्ट टमाटर का उपयोग करें।\n* लाल मिर्च के फ्लेक्स या कटे हुए जलापेनोस के साथ कुछ गर्मी जोड़ें।\n* कुछ कटे हुए शिमला मिर्च या मशरूम मिलाएं जोड़ने के लिए स्वाद और बनावट।\n* एक संतोषजनक नाश्ते या दोपहर के भोजन के लिए टोस्टेड ब्रेड या पिटा के साथ परोसें।\n\nताजे टमाटर और पोच्ड एग्स के साथ अपने स्वादिष्ट शाकशूका का आनंद लें!"
        ],
        [
         10562528,
         3,
         3,
         "Curd , Cheese , Potatoes",
         "वाह क्या अद्भुत संयोजन है! यहाँ एक रेसिपी है जिसमें दही, पनीर और आलू शामिल हैं:\n\n**दही और पनीर से भरे हुए बेक्ड आलू**\n\nपरोसने की संख्या: ४-६ लोग\n\n**सामग्री:**\n\n* ४-६ बड़े आलू\n* १ कप दही (सादा दही)\n* १/२ कप कसा हुआ पनीर (चेडर या मोज्जेरेला अच्छा काम करता है)\n* १/४ कप कटा हुआ ताज़ा धनिया (वैकल्पिक)\n* १/२ चम्मच नमक\n* १/४ चम्मच काली मिर्च\n* १ बड़ा चम्मच जैतून का तेल\n\n**निर्देश:**\n\n१. **ओवन को पहले से गरम करें:** ओवन को ४००°F (२००°C) पर गरम करें।\n२. **आलू तैयार करें:** आलू को साफ करें और एक पेपर तौलिये से सुखाएं। प्रत्येक आलू में एक फोर्क से कुछ छेद करें ताकि भाप निकल सके।\n३. **आलू बेक करें:** आलू पर जैतून का तेल लगाएं और उन्हें ओवन की मध्य रैक पर रखें। ४५-६० मिनट तक बेक करें, या जब तक आलू पक जाएं और एक फोर्क से छेदा जाए तो नरम हों।\n४. **दही और पनीर मिश्रण तैयार करें:** एक बाउल में, दही, कसा हुआ पनीर, नमक और काली मिर्च मिलाएं।\n५. **आलू भरें:** आलू को ओवन से निकालें और कुछ मिनटों के लिए ठंडा होने दें। प्रत्येक आलू को लंबाई में आधा काटें और एक फोर्क से मांस को फ्लफ करें। दही और पनीर मिश्रण को आलू में भरें, इसे खोखले केंद्रों में चम्मच से भरें।\n६. **धनिया से सजाएं (वैकल्पिक):** यदि उपयोग कर रहे हैं, तो दही और पनीर मिश्रण के ऊपर कटा हुआ धनिया छिड़कें।\n७. **ओवन में वापस रखें:** भरे हुए आलू को ओवन में वापस रखें और १०-१५ मिनट तक बेक करें, या जब तक पनीर पिघल जाए और बबल हो जाए।\n८. **परोसें:** आलू को ओवन से निकालें और गरम परोसें, यदि वांछित हो तो अतिरिक्त धनिया से सजाएं।\n\n**सुझाव और विविधताएं:**\n\n* आप दही और पनीर मिश्रण में कुछ कटा हुआ प्याज, लहसुन या चाइव्स मिला सकते हैं जो अतिरिक्त स्वाद देते हैं।\n* यदि आप एक क्रिस्पी आलू त्वचा पसंद करते हैं, तो आप भरने के बाद आलू को २-३ मिनट के लिए ब्रोइल कर सकते हैं। जलने से बचने के लिए उन पर नजर रखें।\n* एक मसालेदार स्वाद के लिए, आप दही और पनीर मिश्रण में कुछ कटा हुआ जलापेनो या लाल मिर्च पाउडर मिला सकते हैं।\n\nअपने स्वादिष्ट दही और पनीर से भरे हुए बेक्ड आलू का आनंद लें!"
        ],
        [
         9987182,
         3,
         3,
         "Butter , Mangoes , Potatoes",
         "क्या दिलचस्प संयोजन है! यहाँ एक अनोखी रेसिपी है जिसमें तीनों सामग्रियों को शामिल किया गया है:\n\n**मैंगो आलू ग्रैटिन विद कैरामेलाइज्ड बटर**\n\nपरोसने की संख्या: ४-६\n\n**विवरण:** एक मीठा और नमकीन व्यंजन जो मैंगो की प्राकृतिक मिठास को आलू की मिट्टी के साथ मिलाता है, जो एक समृद्ध और कैरामेलाइज्ड बटर सॉस से जुड़ा होता है।\n\n**सामग्री:**\n\n* २ बड़े आलू, पतले कटे हुए\n* २ पके मैंगो, कटे हुए\n* ४ बड़े चम्मच (१/२ स्टिक) नमक रहित मक्खन\n* १/४ कप ग्रेन्युलेटेड चीनी\n* १/४ कप भारी क्रीम\n* स्वादानुसार नमक और काली मिर्च\n* ताज़ा धनिया पत्तियाँ सजाने के लिए (वैकल्पिक)\n\n**निर्देश:**\n\n१. **मक्खन को कैरामेलाइज़ करें:** एक छोटे सॉसपैन में, मध्यम आंच पर मक्खन पिघलाएं। कभी-कभी हिलाते हुए, मक्खन को सुनहरा भूरा होने और एक मेवे की खुशबू विकसित करने तक पकाएं (लगभग ५-७ मिनट)। आंच से हटा दें और अलग रखें।\n२. **आलू के स्लाइस तैयार करें:** एक बड़े बाउल में, कटे हुए आलू को एक चुटकी नमक और काली मिर्च के साथ मिलाएं जब तक वे समान रूप से लेपित न हों।\n३. **ग्रैटिन असेंबल करें:** एक ९x१३-इंच बेकिंग डिश में, आलू के स्लाइस की एक परत बनाएं। आप डिश में फिट होने के लिए स्लाइस को काट सकते हैं।\n४. **मैंगो परत जोड़ें:** आलू परत पर मैंगो के कटे हुए आधे हिस्से को फैलाएं।\n५. **कैरामेलाइज्ड बटर ड्रिज़ल करें:** मैंगो परत पर कैरामेलाइज्ड बटर सॉस के आधे हिस्से को डालें।\n६. **परतों को दोहराएं:** चरण ३-५ दोहराएं, आलू परत से शुरू करें, फिर शेष मैंगो, और अंत में शेष कैरामेलाइज्ड बटर सॉस।\n७. **क्रीम और चीनी के साथ शीर्ष पर:** शीर्ष परत पर भारी क्रीम डालें और ग्रेन्युलेटेड चीनी छिड़कें।\n८. **सुनहरा होने तक बेक करें:** ग्रैटिन को ३७५°F (१९०°C) पर प्रीहीटेड ओवन में ३५-४० मिनट तक बेक करें, या जब तक कि शीर्ष सुनहरा भूरा न हो जाए और आलू नरम न हो जाएं।\n९. **सजाएं और परोसें:** ओवन से निकालें और कुछ मिनटों के लिए ठंडा होने दें। ताज़ा धनिया पत्तियों से सजाएं, यदि वांछित हो। गरमा गरम परोसें और आनंद लें!\n\nयह रेसिपी एक अनोखे साइड डिश या हल्के लंच के लिए उपयुक्त है। कैरामेलाइज्ड बटर एक समृद्ध और गहरा स्वाद जोड़ता है, जबकि मैंगो एक मीठा और ताज़ा विपरीत प्रदान करता है जो आलू की मिट्टी के साथ मेल खाता है। बोन एपेटिट!"
        ],
        [
         11446157,
         3,
         3,
         "Tomatoes , Eggs , Bread",
         "वाह क्या अद्भुत संयोजन है! यहाँ एक सरल और स्वादिष्ट नुस्खा है जो टमाटर, अंडे और ब्रेड को मिलाता है:\n\n**टमाटर और अंडे की ब्रuschetta**\n\nसामग्री:\n\n* 4 बड़े टमाटर, कटे हुए\n* 4 अंडे, हार्ड-बॉयल्ड और स्लाइस्ड\n* 4 स्लाइस ब्रेड (क्रस्टी ब्रेड या बैगेट पसंदीदा)\n* 2 लहसुन की कलियाँ, बारीक कटी हुई\n* 1 बड़ा चम्मच जैतून का तेल\n* नमक और काली मिर्च स्वादानुसार\n* ताज़ा बेसिल पत्तियाँ, कटी हुई (वैकल्पिक)\n\nनिर्देश:\n\n1. **ब्रेड को टोस्ट करें**: अपने ओवन को 400°F (200°C) पर प्रीहीट करें। ब्रेड को 1-इंच मोटे स्लाइस में काटें और एक बेकिंग शीट पर रखें। जैतून का तेल ड्रिज़ल करें और बारीक कटा हुआ लहसुन छिड़कें। 10-12 मिनट तक बेक करें, या जब तक ब्रेड टोस्टेड और हल्का भूरा न हो जाए।\n2. **टमाटर तैयार करें**: एक मध्यम आकार के बाउल में, कटे हुए टमाटर, नमक, और काली मिर्च मिलाएं। अच्छी तरह मिलाएं।\n3. **ब्रuschetta असेंबल करें**: जब ब्रेड तैयार हो, तो इसे एक मिनट या दो के लिए ठंडा होने दें। टोस्टेड ब्रेड स्लाइस पर लहसुन की कलियों को हल्के से रगड़ें।\n4. **टमाटर और अंडे से टॉप करें**: टमाटर के मिश्रण को ब्रेड स्लाइस पर चम्मच से डालें, किनारों के आसपास एक छोटी सी सीमा छोड़कर। प्रत्येक स्लाइस पर एक स्लाइस्ड हार्ड-बॉयल्ड अंडा रखें।\n5. **बेसिल से गार्निश करें (वैकल्पिक)**: यदि वांछित हो, तो प्रत्येक स्लाइस के ऊपर ताज़ा बेसिल पत्तियों को छिड़कें।\n6. **परोसें और आनंद लें**: टमाटर और अंडे की ब्रuschetta को तुरंत परोसें, जब ब्रेड अभी भी गर्म है और स्वाद ताज़ा है।\n\n**सुझाव और विविधताएं**:\n\n* सबसे अच्छे स्वाद के लिए ताज़े और पके हुए टमाटर का उपयोग करें।\n* एक अतिरिक्त स्वाद के लिए मोज्जेरेला या पार्मेसन जैसे कुछ कसा हुआ पनीर जोड़ें।\n* यदि आप पसंद करते हैं, तो हार्ड-बॉयल्ड अंडे की जगह स्क्रैम्बल्ड या तले हुए अंडे का उपयोग करें।\n* टमाटर के मिश्रण में कुछ कटी हुई ताज़ा जड़ी-बूटियाँ, जैसे कि अजवायन या ओरेगैनो, जोड़कर अतिरिक्त स्वाद प्राप्त करें।\n\nमुझे आशा है कि आपको यह नुस्खा पसंद आएगा! यदि आपके पास कोई प्रश्न हैं या यदि आप किसी भिन्नता या प्रतिस्थापन के बारे में जानना चाहते हैं, तो मुझे बताएं।"
        ],
        [
         18259715,
         3,
         3,
         "Curd , Tomatoes , Bread",
         "क्या यह एक अद्भुत संयोजन है! यहाँ एक सरल और स्वादिष्ट रेसिपी है जिसमें दही, टमाटर, और ब्रेड शामिल हैं:\n\n**दही और टमाटर ब्रेड बाउल**\n\n**परोसने की संख्या:** 2-3\n**तैयारी का समय:** 15 मिनट\n**पकाने का समय:** 10 मिनट\n**कुल समय:** 25 मिनट\n\n**सामग्री:**\n\n* 1 कप दही (दही या दही)\n* 2 बड़े टमाटर, कटे हुए\n* 2 स्लाइस ब्रेड (सफेद या गेहूं)\n* 1/4 चम्मच नमक\n* 1/4 चम्मच काली मिर्च\n* 1 बड़ा चम्मच कटा हुआ ताज़ा धनिया (वैकल्पिक)\n* 1 बड़ा चम्मच मक्खन या तेल\n\n**निर्देश:**\n\n1. **ब्रेड बाउल तैयार करें:** ब्रेड स्लाइस के क्रस्ट को काट लें और अंदर को खोखला करें ताकि एक बाउल आकार बन जाए। आप एक कुकी कटर या चाकू का उपयोग करके एक सजावटी किनारा बना सकते हैं।\n2. **ब्रेड को टोस्ट करें:** एक नॉन-स्टिक पैन या ग्रिडल को मध्यम आंच पर गरम करें। ब्रेड बाउल को पैन पर रखें और उन्हें हल्का भूरा और क्रिस्पी होने तक टोस्ट करें। उन्हें पलटने और दूसरी तरफ भी टोस्ट करें।\n3. **दही मिश्रण तैयार करें:** एक बाउल में, दही, नमक, और काली मिर्च मिलाएं।\n4. **कटे हुए टमाटर मिलाएं:** दही मिश्रण में कटे हुए टमाटर मिलाएं।\n5. **ब्रेड बाउल असेंबल करें:** टोस्ट किए हुए ब्रेड बाउल को एक सर्विंग प्लेट पर रखें। दही और टमाटर मिश्रण को ब्रेड बाउल में डालें।\n6. **गार्निश और परोसें:** कटा हुआ धनिया ऊपर से छिड़कें (यदि उपयोग कर रहे हैं) और मक्खन या तेल के साथ परोसें। तुरंत परोसें और आनंद लें!\n\n**सुझाव और विविधताएं:**\n\n* आप दही मिश्रण में कुछ कद्दू, गाजर, या चुकंदर मिला सकते हैं जो अतिरिक्त स्वाद और पोषण के लिए है।\n* यदि आप एक मसालेदार स्वाद पसंद करते हैं, तो दही मिश्रण में एक चुटकी केयेन पेपर या लाल मिर्च पाउडर मिला सकते हैं।\n* एक अधिक महत्वपूर्ण नाश्ते के लिए, आप दही मिश्रण में कुछ कटे हुए नट्स या बीज (जैसे बादाम या कद्दू के बीज) मिला सकते हैं।\n* विभिन्न प्रकार के ब्रेड, जैसे कि गेहूं, सोरडौ, या बैगेट, का उपयोग करके स्वाद और बनावट को बदलने का प्रयास करें।\n\nमुझे आशा है कि आपको यह रेसिपी पसंद आएगी! यदि आपके पास कोई प्रश्न हैं या आप किसी भी विविधता या प्रतिस्थापन के बारे में जानना चाहते हैं, तो मुझे बताएं।"
        ],
        [
         28663279,
         3,
         3,
         "Cereal , Potatoes , Eggs",
         "क्या दिलचस्प संयोजन है! यहाँ एक नुस्खा है जिसमें तीनों सामग्रियों को शामिल किया गया है:\n\n**सेरेल क्रस्टेड आलू और एग फ्रिटाटा**\n\n**परोसने की संख्या: ४-६**\n\n**सामग्री:**\n\n* २ बड़े आलू, छिलके उतारे और कटे हुए\n* २ कप सेरेल (जैसे कि कॉर्नफ्लेक्स या राइस क्रिस्पीज)\n* ६ अंडे\n* १/२ कप कसा हुआ चेडर चीज़ (वैकल्पिक)\n* स्वादानुसार नमक और काली मिर्च\n* २ बड़े चम्मच मक्खन या तेल\n\n**निर्देश:**\n\n१. **ओवन को पहले से गरम करें**: अपने ओवन को १९०°C (३७५°F) पर गरम करें।\n२. **आलू तैयार करें**: नमकीन पानी में कटे हुए आलू को ५-७ मिनट तक उबालें जब तक वे थोड़े नरम न हो जाएं। पानी निकालें और अलग रखें।\n३. **सेरेल क्रस्ट बनाएं**: एक फूड प्रोसेसर या ब्लेंडर में, सेरेल को बारीक क्रम्ब्स में पीसें। आप सेरेल को एक प्लास्टिक बैग में रखकर एक रोलिंग पिन से क्रश भी कर सकते हैं।\n४. **अंडे का मिश्रण तैयार करें**: एक बड़े बाउल में, अंडे, नमक, और काली मिर्च को अच्छी तरह मिलाएं।\n५. **फ्रिटाटा असेंबल करें**: एक ग्रीस किए हुए ९-इंच (२३सेमी) ओवन-सुरक्षित स्किलेट में, आलू की एक परत व्यवस्थित करें। अंडे के मिश्रण का आधा हिस्सा आलू पर डालें।\n६. **सेरेल क्रस्ट जोड़ें**: क्रश किए हुए सेरेल को अंडे के मिश्रण पर समान रूप से छिड़कें।\n७. **बाकी अंडे का मिश्रण और चीज़ (यदि उपयोग कर रहे हैं) जोड़ें**: बाकी अंडे का मिश्रण सेरेल क्रस्ट पर डालें। यदि चीज़ का उपयोग कर रहे हैं, तो उसे ऊपर से छिड़कें।\n८. **फ्रिटाटा बेक करें**: फ्रिटाटा को पहले से गरम किए हुए ओवन में २५-३० मिनट तक बेक करें, या जब तक अंडे सेट न हो जाएं और सेरेल क्रस्ट सुनहरा भूरा न हो जाए।\n९. **परोसें और आनंद लें**: स्किलेट को ओवन से निकालें और कुछ मिनट तक ठंडा होने दें। फ्रिटाटा को वेजेज में काटें और गरम परोसें।\n\n**सुझाव और विविधताएं:**\n\n* सेरेल क्रस्ट के स्वाद और बनावट को बदलने के लिए विभिन्न प्रकार के सेरेल का उपयोग करें।\n* अंडे के मिश्रण में कटा हुआ हैम, बेल मिर्च, या प्याज मिलाएं।\n* यदि आप एक क्रिस्पी सेरेल क्रस्ट पसंद करते हैं, तो आप फ्रिटाटा को बेक करने के बाद २-३ मिनट तक ब्रोइल कर सकते हैं। इसे जलने से बचाने के लिए नजर रखें।\n\nमुझे उम्मीद है कि आपको यह अनोखा नुस्खा पसंद आएगा!"
        ],
        [
         24621386,
         3,
         2,
         "Bread , Eggs",
         "एक सरल लेकिन स्वादिष्ट संयोजन! यहाँ एक नुस्खा है जो ब्रेड और अंडे को मिलाता है:\n\n**फ्रेंच टोस्ट với स्क्रैम्बल्ड एग्स**\n\nसामग्री:\n\n* 4 स्लाइस ब्रेड (सफेद या गेहूं)\n* 4 अंडे\n* 1/4 चम्मच नमक\n* 1 बड़ा चम्मच मक्खन, पिघला हुआ\n* वैकल्पिक: मेपल सिरप, शहद, या ताज़ा फल टॉपिंग के लिए\n\nनिर्देश:\n\n1. **फ्रेंच टोस्ट तैयार करें**:\n\t* एक छोटे प्याले में, 2 अंडे और एक चुटकी नमक को अच्छी तरह मिलाएं।\n\t* मध्यम आंच पर एक नॉन-स्टिक स्किलेट या ग्रिडल गरम करें।\n\t* प्रत्येक ब्रेड स्लाइस को अंडे के मिश्रण में डुबोएं, दोनों तरफ समान रूप से कोट करें।\n\t* कोटेड ब्रेड स्लाइस को स्किलेट या ग्रिडल पर रखें और प्रत्येक तरफ 2-3 मिनट तक पकाएं, या सुनहरा भूरा होने तक।\n2. **अंडे स्क्रैम्बल करें**:\n\t* एक अलग प्याले में, शेष 2 अंडे और एक चुटकी नमक को अच्छी तरह मिलाएं।\n\t* मध्यम आंच पर एक छोटे नॉन-स्टिक पैन में पिघला हुआ मक्खन डालें।\n\t* अंडे के मिश्रण को डालें और अंडे को पकाएं जब तक वे पक न जाएं, छोटे कर्ड्स में तोड़ दें।\n3. **संयोजित और परोसें**:\n\t* एक प्लेट पर दो स्लाइस फ्रेंच टोस्ट रखें।\n\t* प्रत्येक स्लाइस पर एक चम्मच स्क्रैम्बल्ड एग्स डालें।\n\t* अपनी पसंद की टॉपिंग जोड़ें, जैसे कि मेपल सिरप, शहद, या ताज़ा फल।\n\t* तुरंत परोसें और आनंद लें!\n\nयह नुस्खा एक स्वादिष्ट नाश्ता या दोपहर का भोजन बनाता है जो आसानी से तैयार किया जा सकता है और आपके स्वाद के अनुसार अनुकूलित किया जा सकता है। आप स्क्रैम्बल्ड एग्स में अन्य सामग्री, जैसे कि कटा हुआ हैम या पनीर, जोड़ सकते हैं जोड़ने के लिए अतिरिक्त स्वाद के लिए। बोन एपेटिट!"
        ],
        [
         12832151,
         3,
         3,
         "Tomatoes , Eggs , Potatoes",
         "वाह क्या अद्भुत संयोजन है! यहाँ एक स्वादिष्ट नुस्खा है जिसमें टमाटर, अंडे और आलू शामिल हैं:\n\n**टमाटर, आलू और अंडे की फ्रिटाटा**\n\n परोसने की संख्या: 4-6 लोग\n\n**सामग्री:**\n\n* 4 बड़े टमाटर, कटे हुए\n* 4 बड़े अंडे\n* 2 बड़े आलू, छिलके उतारे और कटे हुए\n* 1 बड़ा चम्मच जैतून का तेल\n* स्वादानुसार नमक और काली मिर्च\n* वैकल्पिक: ताज़ा जड़ी-बूटियों जैसे अजमोद या चाइव्स के साथ सजाने के लिए\n\n**निर्देश:**\n\n1. **ओवन को 375°F (190°C) पर प्रीहीट करें।**\n2. **आलू तैयार करें:** एक बड़े पैन में नमकीन पानी में कटे हुए आलू को 5-7 मिनट तक उबालें, या जब तक वे थोड़े नरम न हों। आलू को निकालें और अलग रखें।\n3. **टमाटर को सेंकें:** एक बड़े पैन में मध्यम आंच पर जैतून का तेल गरम करें। कटे हुए टमाटर डालें और 5 मिनट तक पकाएं, कभी-कभी हिलाते हुए, जब तक वे नरम न होने लगें।\n4. **आलू डालें:** टमाटर के साथ पके हुए आलू को पैन में डालें। 2-3 मिनट तक पकाएं, कभी-कभी हिलाते हुए, जब तक आलू हल्के सुनहरे भूरे रंग के न हों।\n5. **अंडे को फेंटें:** एक बड़े बाउल में अंडे और एक चुटकी नमक और काली मिर्च को मिलाएं।\n6. **फ्रिटाटा को इकट्ठा करें:** पैन में टमाटर और आलू के मिश्रण पर फेंटे हुए अंडे डालें। 2-3 मिनट तक पकाएं, जब तक कि किनारे सेट न होने लगें।\n7. **ओवन में स्थानांतरित करें:** पैन को प्रीहीटेड ओवन में स्थानांतरित करें और 15-20 मिनट तक बेक करें, या जब तक अंडे लगभग सेट न हों और फ्रिटाटा ऊपर से सुनहरा भूरा न हो जाए।\n8. **परोसें और आनंद लें:** पैन को ओवन से निकालें और कुछ मिनट तक ठंडा होने दें। फ्रिटाटा को वेजेज में काटें और गरम परोसें, यदि वांछित हो तो ताज़ा जड़ी-बूटियों से सजाएं।\n\n**सुझाव और विविधताएं:**\n\n* आप टमाटर के साथ पैन में कुछ कटे हुए प्याज, शिमला मिर्च या मशरूम डाल सकते हैं अतिरिक्त स्वाद के लिए।\n* अलग-अलग प्रकार के आलू, जैसे कि मीठे आलू या युकोन गोल्ड, थोड़े अलग स्वाद और बनावट के लिए उपयोग करें।\n* अंडे में कुछ कसा हुआ पनीर, जैसे कि चेडर या मोज्जेरेला, डालें अतिरिक्त स्वाद के लिए।\n* फ्रिटाटा को एक साइड सलाद या टोस्ट के साथ परोसें एक संतोषजनक नाश्ते, दोपहर के भोजन या रात के खाने के लिए।\n\nमुझे आशा है कि आपको यह नुस्खा पसंद आएगा! यदि आपके पास कोई प्रश्न हैं या यदि आप किसी भी विविधता या प्रतिस्थापन के बारे में जानना चाहते हैं, तो मुझे बताएं।"
        ],
        [
         376144,
         3,
         3,
         "Cheese , Bread , Carrots",
         "वाह क्या अद्भुत संयोजन है! यहाँ एक सरल और स्वादिष्ट नुस्खा है जिसमें तीनों सामग्रियों को शामिल किया गया है:\n\n**चीज़ कैरेट टोस्ट**\n\n**परोसने की संख्या:** 4-6\n**तैयारी का समय:** 15 मिनट\n**पकाने का समय:** 10-12 मिनट\n**कुल समय:** 25-27 मिनट\n\n**सामग्री:**\n\n* 1 कप कसा हुआ चीज़ (चेडर, मोज्जेरेला, या आपके पसंदीदा चीज़ का मिश्रण)\n* 4-6 स्लाइस ब्रेड (सफेद या गेहूं का)\n* 2 बड़े गाजर, छिलके उतारे और कसे हुए\n* 1 बड़ा चम्मच मक्खन\n* स्वादानुसार नमक और काली मिर्च\n* वैकल्पिक: ताज़ा जड़ी-बूटियों जैसे अजवायन या थाइम के साथ सजाने के लिए\n\n**निर्देश:**\n\n1. **ओवन को पहले से गरम करें** 190°C (375°F) पर।\n2. **ब्रेड पर मक्खन लगाएं**: प्रत्येक ब्रेड स्लाइस के एक तरफ मक्खन लगाएं।\n3. **चीज़ डालें**: प्रत्येक ब्रेड स्लाइस के मक्खन वाले तरफ कसा हुआ चीज़ समान रूप से छिड़कें।\n4. **कसे हुए गाजर डालें**: चीज़ के ऊपर कसे हुए गाजर डालें, ब्रेड स्लाइसों में समान रूप से विभाजित करें।\n5. **नमक और काली मिर्च छिड़कें**: गाजर पर थोड़ा नमक और काली मिर्च छिड़कें।\n6. **सजाएं और बेक करें**: ब्रेड स्लाइसों को चीज़ वाली तरफ ऊपर रखकर, पार्चमेंट पेपर से ढकी बेकिंग शीट पर रखें। पहले से गरम ओवन में 10-12 मिनट तक बेक करें, या जब तक चीज़ पिघल न जाए और ब्रेड सुनहरा भूरा न हो जाए।\n7. **सजाएं और परोसें**: ओवन से निकालें और ताज़ा जड़ी-बूटियों से सजाएं, यदि वांछित हो। गरमा गरम परोसें और आनंद लें!\n\n**सुझाव और विविधताएं:**\n\n* एक अतिरिक्त क्रिस्पी क्रस्ट के लिए, बेकिंग के बाद 1-2 मिनट के लिए टोस्ट को ब्रोइल करने का प्रयास करें। जलने से बचने के लिए इस पर नजर रखें।\n* लाल मिर्च के फ्लेक्स या पाप्रिका के एक चुटकी के साथ थोड़ा मसाला जोड़ें।\n* फेटा या गोट चीज़ जैसे विभिन्न प्रकार के चीज़ का उपयोग करके एक अनोखा स्वाद प्रोफाइल प्राप्त करें।\n* इसे एक नाश्ते, साइड डिश, या हल्के दोपहर के भोजन के रूप में परोसें। आप इसे एक सूप या एक हरी सलाद के साथ जोड़कर एक संतोषजनक भोजन बना सकते हैं।\n\nमुझे आशा है कि आपको यह नुस्खा पसंद आएगा! यदि आपके पास कोई प्रश्न हैं या यदि आप किसी भी विविधता या प्रतिस्थापन के बारे में जानना चाहते हैं, तो मुझे बताएं।"
        ]
       ],
       "datasetInfos": [
        {
         "name": "_sqldf",
         "schema": {
          "fields": [
           {
            "metadata": {},
            "name": "CUSTOMER_ID",
            "nullable": true,
            "type": "integer"
           },
           {
            "metadata": {},
            "name": "TOTAL_ORDERS",
            "nullable": true,
            "type": "long"
           },
           {
            "metadata": {},
            "name": "TOTAL_UNIQUE_ORDERS",
            "nullable": true,
            "type": "long"
           },
           {
            "metadata": {},
            "name": "ORDERED_ITEMS",
            "nullable": true,
            "type": "string"
           },
           {
            "metadata": {},
            "name": "recipe_in_regional",
            "nullable": true,
            "type": "string"
           }
          ],
          "type": "struct"
         },
         "tableIdentifier": null,
         "typeStr": "pyspark.sql.connect.dataframe.DataFrame"
        }
       ],
       "dbfsResultPath": null,
       "isJsonSchema": true,
       "metadata": {
        "createTempViewForImplicitDf": true,
        "dataframeName": "_sqldf",
        "executionCount": 4
       },
       "overflow": false,
       "plotOptions": {
        "customPlotOptions": {},
        "displayType": "table",
        "pivotAggregation": null,
        "pivotColumns": null,
        "xColumns": null,
        "yColumns": null
       },
       "removedWidgets": [],
       "schema": [
        {
         "metadata": "{}",
         "name": "CUSTOMER_ID",
         "type": "\"integer\""
        },
        {
         "metadata": "{}",
         "name": "TOTAL_ORDERS",
         "type": "\"long\""
        },
        {
         "metadata": "{}",
         "name": "TOTAL_UNIQUE_ORDERS",
         "type": "\"long\""
        },
        {
         "metadata": "{}",
         "name": "ORDERED_ITEMS",
         "type": "\"string\""
        },
        {
         "metadata": "{}",
         "name": "recipe_in_regional",
         "type": "\"string\""
        }
       ],
       "type": "table"
      }
     },
     "output_type": "display_data"
    }
   ],
   "source": [
    "SELECT * \n",
    "FROM \n",
    "landing.recipe_users.suggested_recipe_users_regional"
   ]
  }
 ],
 "metadata": {
  "application/vnd.databricks.v1+notebook": {
   "computePreferences": null,
   "dashboards": [],
   "environmentMetadata": {
    "base_environment": "",
    "environment_version": "3"
   },
   "inputWidgetPreferences": null,
   "language": "sql",
   "notebookMetadata": {
    "pythonIndentUnit": 4
   },
   "notebookName": "personalized_cooking_recipe",
   "widgets": {}
  },
  "language_info": {
   "name": "sql"
  }
 },
 "nbformat": 4,
 "nbformat_minor": 0
}